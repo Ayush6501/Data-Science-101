{
 "cells": [
  {
   "cell_type": "markdown",
   "source": [
    "# Pandas Basics"
   ],
   "metadata": {
    "collapsed": false
   }
  },
  {
   "cell_type": "code",
   "execution_count": 2,
   "outputs": [],
   "source": [
    "import pandas as pd\n",
    "from urllib.request import urlretrieve"
   ],
   "metadata": {
    "collapsed": false
   }
  },
  {
   "cell_type": "code",
   "execution_count": 3,
   "outputs": [
    {
     "data": {
      "text/plain": "('italy-covid-daywise.csv', <http.client.HTTPMessage at 0x7f7bc853ca90>)"
     },
     "execution_count": 3,
     "metadata": {},
     "output_type": "execute_result"
    }
   ],
   "source": [
    "italy_covid_url = 'https://gist.githubusercontent.com/aakashns/f6a004fa20c84fec53262f9a8bfee775/raw/f309558b1cf5103424cef58e2ecb8704dcd4d74c/italy-covid-daywise.csv'\n",
    "\n",
    "urlretrieve(italy_covid_url, 'italy-covid-daywise.csv')"
   ],
   "metadata": {
    "collapsed": false
   }
  },
  {
   "cell_type": "code",
   "execution_count": 4,
   "outputs": [
    {
     "data": {
      "text/plain": "           date  new_cases  new_deaths  new_tests\n0    2019-12-31        0.0         0.0        NaN\n1    2020-01-01        0.0         0.0        NaN\n2    2020-01-02        0.0         0.0        NaN\n3    2020-01-03        0.0         0.0        NaN\n4    2020-01-04        0.0         0.0        NaN\n..          ...        ...         ...        ...\n243  2020-08-30     1444.0         1.0    53541.0\n244  2020-08-31     1365.0         4.0    42583.0\n245  2020-09-01      996.0         6.0    54395.0\n246  2020-09-02      975.0         8.0        NaN\n247  2020-09-03     1326.0         6.0        NaN\n\n[248 rows x 4 columns]",
      "text/html": "<div>\n<style scoped>\n    .dataframe tbody tr th:only-of-type {\n        vertical-align: middle;\n    }\n\n    .dataframe tbody tr th {\n        vertical-align: top;\n    }\n\n    .dataframe thead th {\n        text-align: right;\n    }\n</style>\n<table border=\"1\" class=\"dataframe\">\n  <thead>\n    <tr style=\"text-align: right;\">\n      <th></th>\n      <th>date</th>\n      <th>new_cases</th>\n      <th>new_deaths</th>\n      <th>new_tests</th>\n    </tr>\n  </thead>\n  <tbody>\n    <tr>\n      <th>0</th>\n      <td>2019-12-31</td>\n      <td>0.0</td>\n      <td>0.0</td>\n      <td>NaN</td>\n    </tr>\n    <tr>\n      <th>1</th>\n      <td>2020-01-01</td>\n      <td>0.0</td>\n      <td>0.0</td>\n      <td>NaN</td>\n    </tr>\n    <tr>\n      <th>2</th>\n      <td>2020-01-02</td>\n      <td>0.0</td>\n      <td>0.0</td>\n      <td>NaN</td>\n    </tr>\n    <tr>\n      <th>3</th>\n      <td>2020-01-03</td>\n      <td>0.0</td>\n      <td>0.0</td>\n      <td>NaN</td>\n    </tr>\n    <tr>\n      <th>4</th>\n      <td>2020-01-04</td>\n      <td>0.0</td>\n      <td>0.0</td>\n      <td>NaN</td>\n    </tr>\n    <tr>\n      <th>...</th>\n      <td>...</td>\n      <td>...</td>\n      <td>...</td>\n      <td>...</td>\n    </tr>\n    <tr>\n      <th>243</th>\n      <td>2020-08-30</td>\n      <td>1444.0</td>\n      <td>1.0</td>\n      <td>53541.0</td>\n    </tr>\n    <tr>\n      <th>244</th>\n      <td>2020-08-31</td>\n      <td>1365.0</td>\n      <td>4.0</td>\n      <td>42583.0</td>\n    </tr>\n    <tr>\n      <th>245</th>\n      <td>2020-09-01</td>\n      <td>996.0</td>\n      <td>6.0</td>\n      <td>54395.0</td>\n    </tr>\n    <tr>\n      <th>246</th>\n      <td>2020-09-02</td>\n      <td>975.0</td>\n      <td>8.0</td>\n      <td>NaN</td>\n    </tr>\n    <tr>\n      <th>247</th>\n      <td>2020-09-03</td>\n      <td>1326.0</td>\n      <td>6.0</td>\n      <td>NaN</td>\n    </tr>\n  </tbody>\n</table>\n<p>248 rows × 4 columns</p>\n</div>"
     },
     "execution_count": 4,
     "metadata": {},
     "output_type": "execute_result"
    }
   ],
   "source": [
    "df = pd.read_csv('italy-covid-daywise.csv')\n",
    "df"
   ],
   "metadata": {
    "collapsed": false
   }
  },
  {
   "cell_type": "code",
   "execution_count": 5,
   "outputs": [
    {
     "name": "stdout",
     "output_type": "stream",
     "text": [
      "<class 'pandas.core.frame.DataFrame'>\n",
      "RangeIndex: 248 entries, 0 to 247\n",
      "Data columns (total 4 columns):\n",
      " #   Column      Non-Null Count  Dtype  \n",
      "---  ------      --------------  -----  \n",
      " 0   date        248 non-null    object \n",
      " 1   new_cases   248 non-null    float64\n",
      " 2   new_deaths  248 non-null    float64\n",
      " 3   new_tests   135 non-null    float64\n",
      "dtypes: float64(3), object(1)\n",
      "memory usage: 7.9+ KB\n"
     ]
    }
   ],
   "source": [
    "# View basic info about rows, columns and datatypes\n",
    "df.info()"
   ],
   "metadata": {
    "collapsed": false
   }
  },
  {
   "cell_type": "code",
   "execution_count": 6,
   "outputs": [
    {
     "data": {
      "text/plain": "         new_cases  new_deaths     new_tests\ncount   248.000000  248.000000    135.000000\nmean   1094.818548  143.133065  31699.674074\nstd    1554.508002  227.105538  11622.209757\nmin    -148.000000  -31.000000   7841.000000\n25%     123.000000    3.000000  25259.000000\n50%     342.000000   17.000000  29545.000000\n75%    1371.750000  175.250000  37711.000000\nmax    6557.000000  971.000000  95273.000000",
      "text/html": "<div>\n<style scoped>\n    .dataframe tbody tr th:only-of-type {\n        vertical-align: middle;\n    }\n\n    .dataframe tbody tr th {\n        vertical-align: top;\n    }\n\n    .dataframe thead th {\n        text-align: right;\n    }\n</style>\n<table border=\"1\" class=\"dataframe\">\n  <thead>\n    <tr style=\"text-align: right;\">\n      <th></th>\n      <th>new_cases</th>\n      <th>new_deaths</th>\n      <th>new_tests</th>\n    </tr>\n  </thead>\n  <tbody>\n    <tr>\n      <th>count</th>\n      <td>248.000000</td>\n      <td>248.000000</td>\n      <td>135.000000</td>\n    </tr>\n    <tr>\n      <th>mean</th>\n      <td>1094.818548</td>\n      <td>143.133065</td>\n      <td>31699.674074</td>\n    </tr>\n    <tr>\n      <th>std</th>\n      <td>1554.508002</td>\n      <td>227.105538</td>\n      <td>11622.209757</td>\n    </tr>\n    <tr>\n      <th>min</th>\n      <td>-148.000000</td>\n      <td>-31.000000</td>\n      <td>7841.000000</td>\n    </tr>\n    <tr>\n      <th>25%</th>\n      <td>123.000000</td>\n      <td>3.000000</td>\n      <td>25259.000000</td>\n    </tr>\n    <tr>\n      <th>50%</th>\n      <td>342.000000</td>\n      <td>17.000000</td>\n      <td>29545.000000</td>\n    </tr>\n    <tr>\n      <th>75%</th>\n      <td>1371.750000</td>\n      <td>175.250000</td>\n      <td>37711.000000</td>\n    </tr>\n    <tr>\n      <th>max</th>\n      <td>6557.000000</td>\n      <td>971.000000</td>\n      <td>95273.000000</td>\n    </tr>\n  </tbody>\n</table>\n</div>"
     },
     "execution_count": 6,
     "metadata": {},
     "output_type": "execute_result"
    }
   ],
   "source": [
    "# View statistical info about numerical columns\n",
    "df.describe()"
   ],
   "metadata": {
    "collapsed": false
   }
  },
  {
   "cell_type": "code",
   "execution_count": 7,
   "outputs": [
    {
     "data": {
      "text/plain": "Index(['date', 'new_cases', 'new_deaths', 'new_tests'], dtype='object')"
     },
     "execution_count": 7,
     "metadata": {},
     "output_type": "execute_result"
    }
   ],
   "source": [
    "# Get the list of colums\n",
    "df.columns"
   ],
   "metadata": {
    "collapsed": false
   }
  },
  {
   "cell_type": "code",
   "execution_count": 8,
   "outputs": [
    {
     "data": {
      "text/plain": "(248, 4)"
     },
     "execution_count": 8,
     "metadata": {},
     "output_type": "execute_result"
    }
   ],
   "source": [
    "df.shape"
   ],
   "metadata": {
    "collapsed": false
   }
  },
  {
   "cell_type": "markdown",
   "source": [
    "## Retrieving Data"
   ],
   "metadata": {
    "collapsed": false
   }
  },
  {
   "cell_type": "code",
   "execution_count": 9,
   "outputs": [
    {
     "data": {
      "text/plain": "0         0.0\n1         0.0\n2         0.0\n3         0.0\n4         0.0\n        ...  \n243    1444.0\n244    1365.0\n245     996.0\n246     975.0\n247    1326.0\nName: new_cases, Length: 248, dtype: float64"
     },
     "execution_count": 9,
     "metadata": {},
     "output_type": "execute_result"
    }
   ],
   "source": [
    "df['new_cases']"
   ],
   "metadata": {
    "collapsed": false
   }
  },
  {
   "cell_type": "code",
   "execution_count": 10,
   "outputs": [
    {
     "data": {
      "text/plain": "53541.0"
     },
     "execution_count": 10,
     "metadata": {},
     "output_type": "execute_result"
    }
   ],
   "source": [
    "# Retrieve at a specific location\n",
    "df['new_tests'][243]"
   ],
   "metadata": {
    "collapsed": false
   }
  },
  {
   "cell_type": "code",
   "execution_count": 11,
   "outputs": [
    {
     "data": {
      "text/plain": "53541.0"
     },
     "execution_count": 11,
     "metadata": {},
     "output_type": "execute_result"
    }
   ],
   "source": [
    "# at method can also directly retrieve at a specific row and column\n",
    "df.at[243, 'new_tests']"
   ],
   "metadata": {
    "collapsed": false
   }
  },
  {
   "cell_type": "code",
   "execution_count": 12,
   "outputs": [
    {
     "data": {
      "text/plain": "           date  new_cases\n0    2019-12-31        0.0\n1    2020-01-01        0.0\n2    2020-01-02        0.0\n3    2020-01-03        0.0\n4    2020-01-04        0.0\n..          ...        ...\n243  2020-08-30     1444.0\n244  2020-08-31     1365.0\n245  2020-09-01      996.0\n246  2020-09-02      975.0\n247  2020-09-03     1326.0\n\n[248 rows x 2 columns]",
      "text/html": "<div>\n<style scoped>\n    .dataframe tbody tr th:only-of-type {\n        vertical-align: middle;\n    }\n\n    .dataframe tbody tr th {\n        vertical-align: top;\n    }\n\n    .dataframe thead th {\n        text-align: right;\n    }\n</style>\n<table border=\"1\" class=\"dataframe\">\n  <thead>\n    <tr style=\"text-align: right;\">\n      <th></th>\n      <th>date</th>\n      <th>new_cases</th>\n    </tr>\n  </thead>\n  <tbody>\n    <tr>\n      <th>0</th>\n      <td>2019-12-31</td>\n      <td>0.0</td>\n    </tr>\n    <tr>\n      <th>1</th>\n      <td>2020-01-01</td>\n      <td>0.0</td>\n    </tr>\n    <tr>\n      <th>2</th>\n      <td>2020-01-02</td>\n      <td>0.0</td>\n    </tr>\n    <tr>\n      <th>3</th>\n      <td>2020-01-03</td>\n      <td>0.0</td>\n    </tr>\n    <tr>\n      <th>4</th>\n      <td>2020-01-04</td>\n      <td>0.0</td>\n    </tr>\n    <tr>\n      <th>...</th>\n      <td>...</td>\n      <td>...</td>\n    </tr>\n    <tr>\n      <th>243</th>\n      <td>2020-08-30</td>\n      <td>1444.0</td>\n    </tr>\n    <tr>\n      <th>244</th>\n      <td>2020-08-31</td>\n      <td>1365.0</td>\n    </tr>\n    <tr>\n      <th>245</th>\n      <td>2020-09-01</td>\n      <td>996.0</td>\n    </tr>\n    <tr>\n      <th>246</th>\n      <td>2020-09-02</td>\n      <td>975.0</td>\n    </tr>\n    <tr>\n      <th>247</th>\n      <td>2020-09-03</td>\n      <td>1326.0</td>\n    </tr>\n  </tbody>\n</table>\n<p>248 rows × 2 columns</p>\n</div>"
     },
     "execution_count": 12,
     "metadata": {},
     "output_type": "execute_result"
    }
   ],
   "source": [
    "# Access multiple columns together\n",
    "cases_df = df[['date', 'new_cases']]\n",
    "cases_df"
   ],
   "metadata": {
    "collapsed": false
   }
  },
  {
   "cell_type": "code",
   "execution_count": 13,
   "outputs": [],
   "source": [
    "# The full data can be also copied instead of being viewed\n",
    "covid_df = cases_df.copy()"
   ],
   "metadata": {
    "collapsed": false
   }
  },
  {
   "cell_type": "code",
   "execution_count": 14,
   "outputs": [
    {
     "data": {
      "text/plain": "date          2020-08-30\nnew_cases         1444.0\nnew_deaths           1.0\nnew_tests        53541.0\nName: 243, dtype: object"
     },
     "execution_count": 14,
     "metadata": {},
     "output_type": "execute_result"
    }
   ],
   "source": [
    "# Using loc\n",
    "df.loc[243]"
   ],
   "metadata": {
    "collapsed": false
   }
  },
  {
   "cell_type": "code",
   "execution_count": 15,
   "outputs": [
    {
     "data": {
      "text/plain": "           date  new_cases  new_deaths  new_tests\n244  2020-08-31     1365.0         4.0    42583.0\n245  2020-09-01      996.0         6.0    54395.0\n246  2020-09-02      975.0         8.0        NaN\n247  2020-09-03     1326.0         6.0        NaN",
      "text/html": "<div>\n<style scoped>\n    .dataframe tbody tr th:only-of-type {\n        vertical-align: middle;\n    }\n\n    .dataframe tbody tr th {\n        vertical-align: top;\n    }\n\n    .dataframe thead th {\n        text-align: right;\n    }\n</style>\n<table border=\"1\" class=\"dataframe\">\n  <thead>\n    <tr style=\"text-align: right;\">\n      <th></th>\n      <th>date</th>\n      <th>new_cases</th>\n      <th>new_deaths</th>\n      <th>new_tests</th>\n    </tr>\n  </thead>\n  <tbody>\n    <tr>\n      <th>244</th>\n      <td>2020-08-31</td>\n      <td>1365.0</td>\n      <td>4.0</td>\n      <td>42583.0</td>\n    </tr>\n    <tr>\n      <th>245</th>\n      <td>2020-09-01</td>\n      <td>996.0</td>\n      <td>6.0</td>\n      <td>54395.0</td>\n    </tr>\n    <tr>\n      <th>246</th>\n      <td>2020-09-02</td>\n      <td>975.0</td>\n      <td>8.0</td>\n      <td>NaN</td>\n    </tr>\n    <tr>\n      <th>247</th>\n      <td>2020-09-03</td>\n      <td>1326.0</td>\n      <td>6.0</td>\n      <td>NaN</td>\n    </tr>\n  </tbody>\n</table>\n</div>"
     },
     "execution_count": 15,
     "metadata": {},
     "output_type": "execute_result"
    }
   ],
   "source": [
    "df.tail(4)"
   ],
   "metadata": {
    "collapsed": false
   }
  },
  {
   "cell_type": "code",
   "execution_count": 16,
   "outputs": [
    {
     "data": {
      "text/plain": "         date  new_cases  new_deaths  new_tests\n0  2019-12-31        0.0         0.0        NaN\n1  2020-01-01        0.0         0.0        NaN\n2  2020-01-02        0.0         0.0        NaN\n3  2020-01-03        0.0         0.0        NaN",
      "text/html": "<div>\n<style scoped>\n    .dataframe tbody tr th:only-of-type {\n        vertical-align: middle;\n    }\n\n    .dataframe tbody tr th {\n        vertical-align: top;\n    }\n\n    .dataframe thead th {\n        text-align: right;\n    }\n</style>\n<table border=\"1\" class=\"dataframe\">\n  <thead>\n    <tr style=\"text-align: right;\">\n      <th></th>\n      <th>date</th>\n      <th>new_cases</th>\n      <th>new_deaths</th>\n      <th>new_tests</th>\n    </tr>\n  </thead>\n  <tbody>\n    <tr>\n      <th>0</th>\n      <td>2019-12-31</td>\n      <td>0.0</td>\n      <td>0.0</td>\n      <td>NaN</td>\n    </tr>\n    <tr>\n      <th>1</th>\n      <td>2020-01-01</td>\n      <td>0.0</td>\n      <td>0.0</td>\n      <td>NaN</td>\n    </tr>\n    <tr>\n      <th>2</th>\n      <td>2020-01-02</td>\n      <td>0.0</td>\n      <td>0.0</td>\n      <td>NaN</td>\n    </tr>\n    <tr>\n      <th>3</th>\n      <td>2020-01-03</td>\n      <td>0.0</td>\n      <td>0.0</td>\n      <td>NaN</td>\n    </tr>\n  </tbody>\n</table>\n</div>"
     },
     "execution_count": 16,
     "metadata": {},
     "output_type": "execute_result"
    }
   ],
   "source": [
    "# First n cells\n",
    "df.head(4)"
   ],
   "metadata": {
    "collapsed": false
   }
  },
  {
   "cell_type": "code",
   "execution_count": 17,
   "outputs": [
    {
     "data": {
      "text/plain": "111"
     },
     "execution_count": 17,
     "metadata": {},
     "output_type": "execute_result"
    }
   ],
   "source": [
    "df.new_tests.first_valid_index()"
   ],
   "metadata": {
    "collapsed": false
   }
  },
  {
   "cell_type": "code",
   "execution_count": 18,
   "outputs": [
    {
     "data": {
      "text/plain": "           date  new_cases  new_deaths  new_tests\n199  2020-07-17      230.0        20.0    28661.0\n3    2020-01-03        0.0         0.0        NaN\n29   2020-01-29        0.0         0.0        NaN\n59   2020-02-28      250.0         5.0        NaN\n186  2020-07-04      223.0        15.0    28946.0\n110  2020-04-19     3491.0       480.0        NaN\n206  2020-07-24      306.0        10.0    28970.0\n176  2020-06-24      113.0        18.0    30237.0\n155  2020-06-03      318.0        55.0    20035.0\n173  2020-06-21      264.0        49.0    24581.0",
      "text/html": "<div>\n<style scoped>\n    .dataframe tbody tr th:only-of-type {\n        vertical-align: middle;\n    }\n\n    .dataframe tbody tr th {\n        vertical-align: top;\n    }\n\n    .dataframe thead th {\n        text-align: right;\n    }\n</style>\n<table border=\"1\" class=\"dataframe\">\n  <thead>\n    <tr style=\"text-align: right;\">\n      <th></th>\n      <th>date</th>\n      <th>new_cases</th>\n      <th>new_deaths</th>\n      <th>new_tests</th>\n    </tr>\n  </thead>\n  <tbody>\n    <tr>\n      <th>199</th>\n      <td>2020-07-17</td>\n      <td>230.0</td>\n      <td>20.0</td>\n      <td>28661.0</td>\n    </tr>\n    <tr>\n      <th>3</th>\n      <td>2020-01-03</td>\n      <td>0.0</td>\n      <td>0.0</td>\n      <td>NaN</td>\n    </tr>\n    <tr>\n      <th>29</th>\n      <td>2020-01-29</td>\n      <td>0.0</td>\n      <td>0.0</td>\n      <td>NaN</td>\n    </tr>\n    <tr>\n      <th>59</th>\n      <td>2020-02-28</td>\n      <td>250.0</td>\n      <td>5.0</td>\n      <td>NaN</td>\n    </tr>\n    <tr>\n      <th>186</th>\n      <td>2020-07-04</td>\n      <td>223.0</td>\n      <td>15.0</td>\n      <td>28946.0</td>\n    </tr>\n    <tr>\n      <th>110</th>\n      <td>2020-04-19</td>\n      <td>3491.0</td>\n      <td>480.0</td>\n      <td>NaN</td>\n    </tr>\n    <tr>\n      <th>206</th>\n      <td>2020-07-24</td>\n      <td>306.0</td>\n      <td>10.0</td>\n      <td>28970.0</td>\n    </tr>\n    <tr>\n      <th>176</th>\n      <td>2020-06-24</td>\n      <td>113.0</td>\n      <td>18.0</td>\n      <td>30237.0</td>\n    </tr>\n    <tr>\n      <th>155</th>\n      <td>2020-06-03</td>\n      <td>318.0</td>\n      <td>55.0</td>\n      <td>20035.0</td>\n    </tr>\n    <tr>\n      <th>173</th>\n      <td>2020-06-21</td>\n      <td>264.0</td>\n      <td>49.0</td>\n      <td>24581.0</td>\n    </tr>\n  </tbody>\n</table>\n</div>"
     },
     "execution_count": 18,
     "metadata": {},
     "output_type": "execute_result"
    }
   ],
   "source": [
    "# To retrieve a random sample of rows from the database\n",
    "df.sample(10)"
   ],
   "metadata": {
    "collapsed": false
   }
  },
  {
   "cell_type": "markdown",
   "source": [
    "## Analyzing the Data"
   ],
   "metadata": {
    "collapsed": false
   }
  },
  {
   "cell_type": "code",
   "execution_count": 19,
   "outputs": [
    {
     "data": {
      "text/plain": "271515.0"
     },
     "execution_count": 19,
     "metadata": {},
     "output_type": "execute_result"
    }
   ],
   "source": [
    "total_cases = df.new_cases.sum()\n",
    "total_cases"
   ],
   "metadata": {
    "collapsed": false
   }
  },
  {
   "cell_type": "code",
   "execution_count": 20,
   "outputs": [
    {
     "data": {
      "text/plain": "0.13073679170579894"
     },
     "execution_count": 20,
     "metadata": {},
     "output_type": "execute_result"
    }
   ],
   "source": [
    "death_rate = df.new_deaths.sum()/total_cases\n",
    "death_rate"
   ],
   "metadata": {
    "collapsed": false
   }
  },
  {
   "cell_type": "code",
   "execution_count": 21,
   "outputs": [
    {
     "data": {
      "text/plain": "5214766.0"
     },
     "execution_count": 21,
     "metadata": {},
     "output_type": "execute_result"
    }
   ],
   "source": [
    "total_tests = df.new_tests.sum() + 935310\n",
    "total_tests"
   ],
   "metadata": {
    "collapsed": false
   }
  },
  {
   "cell_type": "markdown",
   "source": [
    "## Quering and sorting Data"
   ],
   "metadata": {
    "collapsed": false
   }
  },
  {
   "cell_type": "code",
   "execution_count": 22,
   "outputs": [
    {
     "data": {
      "text/plain": "0      False\n1      False\n2      False\n3      False\n4      False\n       ...  \n243     True\n244     True\n245    False\n246    False\n247     True\nName: new_cases, Length: 248, dtype: bool"
     },
     "execution_count": 22,
     "metadata": {},
     "output_type": "execute_result"
    }
   ],
   "source": [
    "high_new_cases = df.new_cases > 1000\n",
    "high_new_cases"
   ],
   "metadata": {
    "collapsed": false
   }
  },
  {
   "cell_type": "code",
   "execution_count": 23,
   "outputs": [
    {
     "data": {
      "text/plain": "           date  new_cases  new_deaths  new_tests\n68   2020-03-08     1247.0        36.0        NaN\n69   2020-03-09     1492.0       133.0        NaN\n70   2020-03-10     1797.0        98.0        NaN\n72   2020-03-12     2313.0       196.0        NaN\n73   2020-03-13     2651.0       189.0        NaN\n..          ...        ...         ...        ...\n241  2020-08-28     1409.0         5.0    65135.0\n242  2020-08-29     1460.0         9.0    64294.0\n243  2020-08-30     1444.0         1.0    53541.0\n244  2020-08-31     1365.0         4.0    42583.0\n247  2020-09-03     1326.0         6.0        NaN\n\n[72 rows x 4 columns]",
      "text/html": "<div>\n<style scoped>\n    .dataframe tbody tr th:only-of-type {\n        vertical-align: middle;\n    }\n\n    .dataframe tbody tr th {\n        vertical-align: top;\n    }\n\n    .dataframe thead th {\n        text-align: right;\n    }\n</style>\n<table border=\"1\" class=\"dataframe\">\n  <thead>\n    <tr style=\"text-align: right;\">\n      <th></th>\n      <th>date</th>\n      <th>new_cases</th>\n      <th>new_deaths</th>\n      <th>new_tests</th>\n    </tr>\n  </thead>\n  <tbody>\n    <tr>\n      <th>68</th>\n      <td>2020-03-08</td>\n      <td>1247.0</td>\n      <td>36.0</td>\n      <td>NaN</td>\n    </tr>\n    <tr>\n      <th>69</th>\n      <td>2020-03-09</td>\n      <td>1492.0</td>\n      <td>133.0</td>\n      <td>NaN</td>\n    </tr>\n    <tr>\n      <th>70</th>\n      <td>2020-03-10</td>\n      <td>1797.0</td>\n      <td>98.0</td>\n      <td>NaN</td>\n    </tr>\n    <tr>\n      <th>72</th>\n      <td>2020-03-12</td>\n      <td>2313.0</td>\n      <td>196.0</td>\n      <td>NaN</td>\n    </tr>\n    <tr>\n      <th>73</th>\n      <td>2020-03-13</td>\n      <td>2651.0</td>\n      <td>189.0</td>\n      <td>NaN</td>\n    </tr>\n    <tr>\n      <th>...</th>\n      <td>...</td>\n      <td>...</td>\n      <td>...</td>\n      <td>...</td>\n    </tr>\n    <tr>\n      <th>241</th>\n      <td>2020-08-28</td>\n      <td>1409.0</td>\n      <td>5.0</td>\n      <td>65135.0</td>\n    </tr>\n    <tr>\n      <th>242</th>\n      <td>2020-08-29</td>\n      <td>1460.0</td>\n      <td>9.0</td>\n      <td>64294.0</td>\n    </tr>\n    <tr>\n      <th>243</th>\n      <td>2020-08-30</td>\n      <td>1444.0</td>\n      <td>1.0</td>\n      <td>53541.0</td>\n    </tr>\n    <tr>\n      <th>244</th>\n      <td>2020-08-31</td>\n      <td>1365.0</td>\n      <td>4.0</td>\n      <td>42583.0</td>\n    </tr>\n    <tr>\n      <th>247</th>\n      <td>2020-09-03</td>\n      <td>1326.0</td>\n      <td>6.0</td>\n      <td>NaN</td>\n    </tr>\n  </tbody>\n</table>\n<p>72 rows × 4 columns</p>\n</div>"
     },
     "execution_count": 23,
     "metadata": {},
     "output_type": "execute_result"
    }
   ],
   "source": [
    "df[high_new_cases]"
   ],
   "metadata": {
    "collapsed": false
   }
  },
  {
   "cell_type": "code",
   "execution_count": 24,
   "outputs": [
    {
     "data": {
      "text/plain": "           date  new_cases  new_deaths  new_tests\n111  2020-04-20     3047.0       433.0     7841.0\n112  2020-04-21     2256.0       454.0    28095.0\n113  2020-04-22     2729.0       534.0    44248.0\n114  2020-04-23     3370.0       437.0    37083.0\n116  2020-04-25     3021.0       420.0    38676.0\n117  2020-04-26     2357.0       415.0    24113.0\n118  2020-04-27     2324.0       260.0    26678.0\n120  2020-04-29     2091.0       382.0    38589.0\n123  2020-05-02     1965.0       269.0    31231.0\n124  2020-05-03     1900.0       474.0    27047.0\n125  2020-05-04     1389.0       174.0    22999.0\n128  2020-05-07     1444.0       369.0    13665.0",
      "text/html": "<div>\n<style scoped>\n    .dataframe tbody tr th:only-of-type {\n        vertical-align: middle;\n    }\n\n    .dataframe tbody tr th {\n        vertical-align: top;\n    }\n\n    .dataframe thead th {\n        text-align: right;\n    }\n</style>\n<table border=\"1\" class=\"dataframe\">\n  <thead>\n    <tr style=\"text-align: right;\">\n      <th></th>\n      <th>date</th>\n      <th>new_cases</th>\n      <th>new_deaths</th>\n      <th>new_tests</th>\n    </tr>\n  </thead>\n  <tbody>\n    <tr>\n      <th>111</th>\n      <td>2020-04-20</td>\n      <td>3047.0</td>\n      <td>433.0</td>\n      <td>7841.0</td>\n    </tr>\n    <tr>\n      <th>112</th>\n      <td>2020-04-21</td>\n      <td>2256.0</td>\n      <td>454.0</td>\n      <td>28095.0</td>\n    </tr>\n    <tr>\n      <th>113</th>\n      <td>2020-04-22</td>\n      <td>2729.0</td>\n      <td>534.0</td>\n      <td>44248.0</td>\n    </tr>\n    <tr>\n      <th>114</th>\n      <td>2020-04-23</td>\n      <td>3370.0</td>\n      <td>437.0</td>\n      <td>37083.0</td>\n    </tr>\n    <tr>\n      <th>116</th>\n      <td>2020-04-25</td>\n      <td>3021.0</td>\n      <td>420.0</td>\n      <td>38676.0</td>\n    </tr>\n    <tr>\n      <th>117</th>\n      <td>2020-04-26</td>\n      <td>2357.0</td>\n      <td>415.0</td>\n      <td>24113.0</td>\n    </tr>\n    <tr>\n      <th>118</th>\n      <td>2020-04-27</td>\n      <td>2324.0</td>\n      <td>260.0</td>\n      <td>26678.0</td>\n    </tr>\n    <tr>\n      <th>120</th>\n      <td>2020-04-29</td>\n      <td>2091.0</td>\n      <td>382.0</td>\n      <td>38589.0</td>\n    </tr>\n    <tr>\n      <th>123</th>\n      <td>2020-05-02</td>\n      <td>1965.0</td>\n      <td>269.0</td>\n      <td>31231.0</td>\n    </tr>\n    <tr>\n      <th>124</th>\n      <td>2020-05-03</td>\n      <td>1900.0</td>\n      <td>474.0</td>\n      <td>27047.0</td>\n    </tr>\n    <tr>\n      <th>125</th>\n      <td>2020-05-04</td>\n      <td>1389.0</td>\n      <td>174.0</td>\n      <td>22999.0</td>\n    </tr>\n    <tr>\n      <th>128</th>\n      <td>2020-05-07</td>\n      <td>1444.0</td>\n      <td>369.0</td>\n      <td>13665.0</td>\n    </tr>\n  </tbody>\n</table>\n</div>"
     },
     "execution_count": 24,
     "metadata": {},
     "output_type": "execute_result"
    }
   ],
   "source": [
    "pos_rate = 0.052\n",
    "positive_rate = df[df.new_cases/df.new_tests > pos_rate]\n",
    "positive_rate"
   ],
   "metadata": {
    "collapsed": false
   }
  },
  {
   "cell_type": "code",
   "execution_count": 25,
   "outputs": [
    {
     "data": {
      "text/plain": "           date  new_cases  new_deaths  new_tests  positive_rate\n225  2020-08-12      412.0         6.0    27330.0       0.015075\n214  2020-08-01      379.0         9.0    31905.0       0.011879\n161  2020-06-09      280.0        65.0    32200.0       0.008696\n189  2020-07-07      208.0         8.0    22490.0       0.009249\n191  2020-07-09      193.0        15.0    29947.0       0.006445",
      "text/html": "<div>\n<style scoped>\n    .dataframe tbody tr th:only-of-type {\n        vertical-align: middle;\n    }\n\n    .dataframe tbody tr th {\n        vertical-align: top;\n    }\n\n    .dataframe thead th {\n        text-align: right;\n    }\n</style>\n<table border=\"1\" class=\"dataframe\">\n  <thead>\n    <tr style=\"text-align: right;\">\n      <th></th>\n      <th>date</th>\n      <th>new_cases</th>\n      <th>new_deaths</th>\n      <th>new_tests</th>\n      <th>positive_rate</th>\n    </tr>\n  </thead>\n  <tbody>\n    <tr>\n      <th>225</th>\n      <td>2020-08-12</td>\n      <td>412.0</td>\n      <td>6.0</td>\n      <td>27330.0</td>\n      <td>0.015075</td>\n    </tr>\n    <tr>\n      <th>214</th>\n      <td>2020-08-01</td>\n      <td>379.0</td>\n      <td>9.0</td>\n      <td>31905.0</td>\n      <td>0.011879</td>\n    </tr>\n    <tr>\n      <th>161</th>\n      <td>2020-06-09</td>\n      <td>280.0</td>\n      <td>65.0</td>\n      <td>32200.0</td>\n      <td>0.008696</td>\n    </tr>\n    <tr>\n      <th>189</th>\n      <td>2020-07-07</td>\n      <td>208.0</td>\n      <td>8.0</td>\n      <td>22490.0</td>\n      <td>0.009249</td>\n    </tr>\n    <tr>\n      <th>191</th>\n      <td>2020-07-09</td>\n      <td>193.0</td>\n      <td>15.0</td>\n      <td>29947.0</td>\n      <td>0.006445</td>\n    </tr>\n  </tbody>\n</table>\n</div>"
     },
     "execution_count": 25,
     "metadata": {},
     "output_type": "execute_result"
    }
   ],
   "source": [
    "# Adding to the dataset\n",
    "df['positive_rate'] = df.new_cases/df.new_tests\n",
    "df.sample(5)"
   ],
   "metadata": {
    "collapsed": false
   }
  },
  {
   "cell_type": "code",
   "execution_count": 26,
   "outputs": [
    {
     "data": {
      "text/plain": "           date  new_cases  new_deaths  new_tests\n0    2019-12-31        0.0         0.0        NaN\n1    2020-01-01        0.0         0.0        NaN\n2    2020-01-02        0.0         0.0        NaN\n3    2020-01-03        0.0         0.0        NaN\n4    2020-01-04        0.0         0.0        NaN\n..          ...        ...         ...        ...\n243  2020-08-30     1444.0         1.0    53541.0\n244  2020-08-31     1365.0         4.0    42583.0\n245  2020-09-01      996.0         6.0    54395.0\n246  2020-09-02      975.0         8.0        NaN\n247  2020-09-03     1326.0         6.0        NaN\n\n[248 rows x 4 columns]",
      "text/html": "<div>\n<style scoped>\n    .dataframe tbody tr th:only-of-type {\n        vertical-align: middle;\n    }\n\n    .dataframe tbody tr th {\n        vertical-align: top;\n    }\n\n    .dataframe thead th {\n        text-align: right;\n    }\n</style>\n<table border=\"1\" class=\"dataframe\">\n  <thead>\n    <tr style=\"text-align: right;\">\n      <th></th>\n      <th>date</th>\n      <th>new_cases</th>\n      <th>new_deaths</th>\n      <th>new_tests</th>\n    </tr>\n  </thead>\n  <tbody>\n    <tr>\n      <th>0</th>\n      <td>2019-12-31</td>\n      <td>0.0</td>\n      <td>0.0</td>\n      <td>NaN</td>\n    </tr>\n    <tr>\n      <th>1</th>\n      <td>2020-01-01</td>\n      <td>0.0</td>\n      <td>0.0</td>\n      <td>NaN</td>\n    </tr>\n    <tr>\n      <th>2</th>\n      <td>2020-01-02</td>\n      <td>0.0</td>\n      <td>0.0</td>\n      <td>NaN</td>\n    </tr>\n    <tr>\n      <th>3</th>\n      <td>2020-01-03</td>\n      <td>0.0</td>\n      <td>0.0</td>\n      <td>NaN</td>\n    </tr>\n    <tr>\n      <th>4</th>\n      <td>2020-01-04</td>\n      <td>0.0</td>\n      <td>0.0</td>\n      <td>NaN</td>\n    </tr>\n    <tr>\n      <th>...</th>\n      <td>...</td>\n      <td>...</td>\n      <td>...</td>\n      <td>...</td>\n    </tr>\n    <tr>\n      <th>243</th>\n      <td>2020-08-30</td>\n      <td>1444.0</td>\n      <td>1.0</td>\n      <td>53541.0</td>\n    </tr>\n    <tr>\n      <th>244</th>\n      <td>2020-08-31</td>\n      <td>1365.0</td>\n      <td>4.0</td>\n      <td>42583.0</td>\n    </tr>\n    <tr>\n      <th>245</th>\n      <td>2020-09-01</td>\n      <td>996.0</td>\n      <td>6.0</td>\n      <td>54395.0</td>\n    </tr>\n    <tr>\n      <th>246</th>\n      <td>2020-09-02</td>\n      <td>975.0</td>\n      <td>8.0</td>\n      <td>NaN</td>\n    </tr>\n    <tr>\n      <th>247</th>\n      <td>2020-09-03</td>\n      <td>1326.0</td>\n      <td>6.0</td>\n      <td>NaN</td>\n    </tr>\n  </tbody>\n</table>\n<p>248 rows × 4 columns</p>\n</div>"
     },
     "execution_count": 26,
     "metadata": {},
     "output_type": "execute_result"
    }
   ],
   "source": [
    "# Columns can be dropped using the drop method\n",
    "df.drop(columns='positive_rate', inplace=True)\n",
    "df"
   ],
   "metadata": {
    "collapsed": false
   }
  },
  {
   "cell_type": "markdown",
   "source": [
    "## Sorting rows using column values"
   ],
   "metadata": {
    "collapsed": false
   }
  },
  {
   "cell_type": "code",
   "execution_count": 27,
   "outputs": [
    {
     "data": {
      "text/plain": "          date  new_cases  new_deaths  new_tests\n82  2020-03-22     6557.0       795.0        NaN\n87  2020-03-27     6153.0       660.0        NaN\n81  2020-03-21     5986.0       625.0        NaN\n89  2020-03-29     5974.0       887.0        NaN\n88  2020-03-28     5959.0       971.0        NaN\n83  2020-03-23     5560.0       649.0        NaN\n80  2020-03-20     5322.0       429.0        NaN\n85  2020-03-25     5249.0       743.0        NaN\n90  2020-03-30     5217.0       758.0        NaN\n86  2020-03-26     5210.0       685.0        NaN",
      "text/html": "<div>\n<style scoped>\n    .dataframe tbody tr th:only-of-type {\n        vertical-align: middle;\n    }\n\n    .dataframe tbody tr th {\n        vertical-align: top;\n    }\n\n    .dataframe thead th {\n        text-align: right;\n    }\n</style>\n<table border=\"1\" class=\"dataframe\">\n  <thead>\n    <tr style=\"text-align: right;\">\n      <th></th>\n      <th>date</th>\n      <th>new_cases</th>\n      <th>new_deaths</th>\n      <th>new_tests</th>\n    </tr>\n  </thead>\n  <tbody>\n    <tr>\n      <th>82</th>\n      <td>2020-03-22</td>\n      <td>6557.0</td>\n      <td>795.0</td>\n      <td>NaN</td>\n    </tr>\n    <tr>\n      <th>87</th>\n      <td>2020-03-27</td>\n      <td>6153.0</td>\n      <td>660.0</td>\n      <td>NaN</td>\n    </tr>\n    <tr>\n      <th>81</th>\n      <td>2020-03-21</td>\n      <td>5986.0</td>\n      <td>625.0</td>\n      <td>NaN</td>\n    </tr>\n    <tr>\n      <th>89</th>\n      <td>2020-03-29</td>\n      <td>5974.0</td>\n      <td>887.0</td>\n      <td>NaN</td>\n    </tr>\n    <tr>\n      <th>88</th>\n      <td>2020-03-28</td>\n      <td>5959.0</td>\n      <td>971.0</td>\n      <td>NaN</td>\n    </tr>\n    <tr>\n      <th>83</th>\n      <td>2020-03-23</td>\n      <td>5560.0</td>\n      <td>649.0</td>\n      <td>NaN</td>\n    </tr>\n    <tr>\n      <th>80</th>\n      <td>2020-03-20</td>\n      <td>5322.0</td>\n      <td>429.0</td>\n      <td>NaN</td>\n    </tr>\n    <tr>\n      <th>85</th>\n      <td>2020-03-25</td>\n      <td>5249.0</td>\n      <td>743.0</td>\n      <td>NaN</td>\n    </tr>\n    <tr>\n      <th>90</th>\n      <td>2020-03-30</td>\n      <td>5217.0</td>\n      <td>758.0</td>\n      <td>NaN</td>\n    </tr>\n    <tr>\n      <th>86</th>\n      <td>2020-03-26</td>\n      <td>5210.0</td>\n      <td>685.0</td>\n      <td>NaN</td>\n    </tr>\n  </tbody>\n</table>\n</div>"
     },
     "execution_count": 27,
     "metadata": {},
     "output_type": "execute_result"
    }
   ],
   "source": [
    "df.sort_values('new_cases', ascending=False).head(10)"
   ],
   "metadata": {
    "collapsed": false
   }
  },
  {
   "cell_type": "code",
   "execution_count": 28,
   "outputs": [
    {
     "data": {
      "text/plain": "          date  new_cases  new_deaths  new_tests\n88  2020-03-28     5959.0       971.0        NaN\n89  2020-03-29     5974.0       887.0        NaN\n92  2020-04-01     4053.0       839.0        NaN\n91  2020-03-31     4050.0       810.0        NaN\n82  2020-03-22     6557.0       795.0        NaN\n95  2020-04-04     4585.0       764.0        NaN\n94  2020-04-03     4668.0       760.0        NaN\n90  2020-03-30     5217.0       758.0        NaN\n85  2020-03-25     5249.0       743.0        NaN\n93  2020-04-02     4782.0       727.0        NaN",
      "text/html": "<div>\n<style scoped>\n    .dataframe tbody tr th:only-of-type {\n        vertical-align: middle;\n    }\n\n    .dataframe tbody tr th {\n        vertical-align: top;\n    }\n\n    .dataframe thead th {\n        text-align: right;\n    }\n</style>\n<table border=\"1\" class=\"dataframe\">\n  <thead>\n    <tr style=\"text-align: right;\">\n      <th></th>\n      <th>date</th>\n      <th>new_cases</th>\n      <th>new_deaths</th>\n      <th>new_tests</th>\n    </tr>\n  </thead>\n  <tbody>\n    <tr>\n      <th>88</th>\n      <td>2020-03-28</td>\n      <td>5959.0</td>\n      <td>971.0</td>\n      <td>NaN</td>\n    </tr>\n    <tr>\n      <th>89</th>\n      <td>2020-03-29</td>\n      <td>5974.0</td>\n      <td>887.0</td>\n      <td>NaN</td>\n    </tr>\n    <tr>\n      <th>92</th>\n      <td>2020-04-01</td>\n      <td>4053.0</td>\n      <td>839.0</td>\n      <td>NaN</td>\n    </tr>\n    <tr>\n      <th>91</th>\n      <td>2020-03-31</td>\n      <td>4050.0</td>\n      <td>810.0</td>\n      <td>NaN</td>\n    </tr>\n    <tr>\n      <th>82</th>\n      <td>2020-03-22</td>\n      <td>6557.0</td>\n      <td>795.0</td>\n      <td>NaN</td>\n    </tr>\n    <tr>\n      <th>95</th>\n      <td>2020-04-04</td>\n      <td>4585.0</td>\n      <td>764.0</td>\n      <td>NaN</td>\n    </tr>\n    <tr>\n      <th>94</th>\n      <td>2020-04-03</td>\n      <td>4668.0</td>\n      <td>760.0</td>\n      <td>NaN</td>\n    </tr>\n    <tr>\n      <th>90</th>\n      <td>2020-03-30</td>\n      <td>5217.0</td>\n      <td>758.0</td>\n      <td>NaN</td>\n    </tr>\n    <tr>\n      <th>85</th>\n      <td>2020-03-25</td>\n      <td>5249.0</td>\n      <td>743.0</td>\n      <td>NaN</td>\n    </tr>\n    <tr>\n      <th>93</th>\n      <td>2020-04-02</td>\n      <td>4782.0</td>\n      <td>727.0</td>\n      <td>NaN</td>\n    </tr>\n  </tbody>\n</table>\n</div>"
     },
     "execution_count": 28,
     "metadata": {},
     "output_type": "execute_result"
    }
   ],
   "source": [
    "df.sort_values('new_deaths', ascending=False).head(10)"
   ],
   "metadata": {
    "collapsed": false
   }
  },
  {
   "cell_type": "code",
   "execution_count": 29,
   "outputs": [
    {
     "data": {
      "text/plain": "           date  new_cases  new_deaths  new_tests\n169  2020-06-17      210.0        34.0    33957.0\n170  2020-06-18      328.0        43.0    32921.0\n171  2020-06-19      331.0        66.0    28570.0\n172  2020-06-20     -148.0        47.0    29875.0\n173  2020-06-21      264.0        49.0    24581.0\n174  2020-06-22      224.0        24.0    16152.0\n175  2020-06-23      221.0        23.0    23225.0",
      "text/html": "<div>\n<style scoped>\n    .dataframe tbody tr th:only-of-type {\n        vertical-align: middle;\n    }\n\n    .dataframe tbody tr th {\n        vertical-align: top;\n    }\n\n    .dataframe thead th {\n        text-align: right;\n    }\n</style>\n<table border=\"1\" class=\"dataframe\">\n  <thead>\n    <tr style=\"text-align: right;\">\n      <th></th>\n      <th>date</th>\n      <th>new_cases</th>\n      <th>new_deaths</th>\n      <th>new_tests</th>\n    </tr>\n  </thead>\n  <tbody>\n    <tr>\n      <th>169</th>\n      <td>2020-06-17</td>\n      <td>210.0</td>\n      <td>34.0</td>\n      <td>33957.0</td>\n    </tr>\n    <tr>\n      <th>170</th>\n      <td>2020-06-18</td>\n      <td>328.0</td>\n      <td>43.0</td>\n      <td>32921.0</td>\n    </tr>\n    <tr>\n      <th>171</th>\n      <td>2020-06-19</td>\n      <td>331.0</td>\n      <td>66.0</td>\n      <td>28570.0</td>\n    </tr>\n    <tr>\n      <th>172</th>\n      <td>2020-06-20</td>\n      <td>-148.0</td>\n      <td>47.0</td>\n      <td>29875.0</td>\n    </tr>\n    <tr>\n      <th>173</th>\n      <td>2020-06-21</td>\n      <td>264.0</td>\n      <td>49.0</td>\n      <td>24581.0</td>\n    </tr>\n    <tr>\n      <th>174</th>\n      <td>2020-06-22</td>\n      <td>224.0</td>\n      <td>24.0</td>\n      <td>16152.0</td>\n    </tr>\n    <tr>\n      <th>175</th>\n      <td>2020-06-23</td>\n      <td>221.0</td>\n      <td>23.0</td>\n      <td>23225.0</td>\n    </tr>\n  </tbody>\n</table>\n</div>"
     },
     "execution_count": 29,
     "metadata": {},
     "output_type": "execute_result"
    }
   ],
   "source": [
    "df.loc[169:175]"
   ],
   "metadata": {
    "collapsed": false
   }
  },
  {
   "cell_type": "code",
   "execution_count": 30,
   "outputs": [
    {
     "data": {
      "text/plain": "           date  new_cases  new_deaths  new_tests\n169  2020-06-17      210.0        34.0    33957.0\n170  2020-06-18      328.0        43.0    32921.0\n171  2020-06-19      331.0        66.0    28570.0\n172  2020-06-20      297.5        47.0    29875.0\n173  2020-06-21      264.0        49.0    24581.0\n174  2020-06-22      224.0        24.0    16152.0\n175  2020-06-23      221.0        23.0    23225.0",
      "text/html": "<div>\n<style scoped>\n    .dataframe tbody tr th:only-of-type {\n        vertical-align: middle;\n    }\n\n    .dataframe tbody tr th {\n        vertical-align: top;\n    }\n\n    .dataframe thead th {\n        text-align: right;\n    }\n</style>\n<table border=\"1\" class=\"dataframe\">\n  <thead>\n    <tr style=\"text-align: right;\">\n      <th></th>\n      <th>date</th>\n      <th>new_cases</th>\n      <th>new_deaths</th>\n      <th>new_tests</th>\n    </tr>\n  </thead>\n  <tbody>\n    <tr>\n      <th>169</th>\n      <td>2020-06-17</td>\n      <td>210.0</td>\n      <td>34.0</td>\n      <td>33957.0</td>\n    </tr>\n    <tr>\n      <th>170</th>\n      <td>2020-06-18</td>\n      <td>328.0</td>\n      <td>43.0</td>\n      <td>32921.0</td>\n    </tr>\n    <tr>\n      <th>171</th>\n      <td>2020-06-19</td>\n      <td>331.0</td>\n      <td>66.0</td>\n      <td>28570.0</td>\n    </tr>\n    <tr>\n      <th>172</th>\n      <td>2020-06-20</td>\n      <td>297.5</td>\n      <td>47.0</td>\n      <td>29875.0</td>\n    </tr>\n    <tr>\n      <th>173</th>\n      <td>2020-06-21</td>\n      <td>264.0</td>\n      <td>49.0</td>\n      <td>24581.0</td>\n    </tr>\n    <tr>\n      <th>174</th>\n      <td>2020-06-22</td>\n      <td>224.0</td>\n      <td>24.0</td>\n      <td>16152.0</td>\n    </tr>\n    <tr>\n      <th>175</th>\n      <td>2020-06-23</td>\n      <td>221.0</td>\n      <td>23.0</td>\n      <td>23225.0</td>\n    </tr>\n  </tbody>\n</table>\n</div>"
     },
     "execution_count": 30,
     "metadata": {},
     "output_type": "execute_result"
    }
   ],
   "source": [
    "df.at[172, 'new_cases'] = (df.at[171, 'new_cases']+df.at[173, 'new_cases'])/2\n",
    "df.loc[169:175]"
   ],
   "metadata": {
    "collapsed": false
   }
  },
  {
   "cell_type": "markdown",
   "source": [
    "## Working with Dates"
   ],
   "metadata": {
    "collapsed": false
   }
  },
  {
   "cell_type": "code",
   "execution_count": 31,
   "outputs": [
    {
     "data": {
      "text/plain": "0      2019-12-31\n1      2020-01-01\n2      2020-01-02\n3      2020-01-03\n4      2020-01-04\n          ...    \n243    2020-08-30\n244    2020-08-31\n245    2020-09-01\n246    2020-09-02\n247    2020-09-03\nName: date, Length: 248, dtype: object"
     },
     "execution_count": 31,
     "metadata": {},
     "output_type": "execute_result"
    }
   ],
   "source": [
    "df.date"
   ],
   "metadata": {
    "collapsed": false
   }
  },
  {
   "cell_type": "code",
   "execution_count": 32,
   "outputs": [],
   "source": [
    "df.date = pd.to_datetime(df.date)"
   ],
   "metadata": {
    "collapsed": false
   }
  },
  {
   "cell_type": "code",
   "execution_count": 33,
   "outputs": [
    {
     "data": {
      "text/plain": "0     2019-12-31\n1     2020-01-01\n2     2020-01-02\n3     2020-01-03\n4     2020-01-04\n         ...    \n243   2020-08-30\n244   2020-08-31\n245   2020-09-01\n246   2020-09-02\n247   2020-09-03\nName: date, Length: 248, dtype: datetime64[ns]"
     },
     "execution_count": 33,
     "metadata": {},
     "output_type": "execute_result"
    }
   ],
   "source": [
    "df.date"
   ],
   "metadata": {
    "collapsed": false
   }
  },
  {
   "cell_type": "code",
   "execution_count": 34,
   "outputs": [
    {
     "data": {
      "text/plain": "          date  new_cases  new_deaths  new_tests  year  month  day  weekday\n0   2019-12-31        0.0         0.0        NaN  2019     12   31        1\n1   2020-01-01        0.0         0.0        NaN  2020      1    1        2\n2   2020-01-02        0.0         0.0        NaN  2020      1    2        3\n3   2020-01-03        0.0         0.0        NaN  2020      1    3        4\n4   2020-01-04        0.0         0.0        NaN  2020      1    4        5\n..         ...        ...         ...        ...   ...    ...  ...      ...\n243 2020-08-30     1444.0         1.0    53541.0  2020      8   30        6\n244 2020-08-31     1365.0         4.0    42583.0  2020      8   31        0\n245 2020-09-01      996.0         6.0    54395.0  2020      9    1        1\n246 2020-09-02      975.0         8.0        NaN  2020      9    2        2\n247 2020-09-03     1326.0         6.0        NaN  2020      9    3        3\n\n[248 rows x 8 columns]",
      "text/html": "<div>\n<style scoped>\n    .dataframe tbody tr th:only-of-type {\n        vertical-align: middle;\n    }\n\n    .dataframe tbody tr th {\n        vertical-align: top;\n    }\n\n    .dataframe thead th {\n        text-align: right;\n    }\n</style>\n<table border=\"1\" class=\"dataframe\">\n  <thead>\n    <tr style=\"text-align: right;\">\n      <th></th>\n      <th>date</th>\n      <th>new_cases</th>\n      <th>new_deaths</th>\n      <th>new_tests</th>\n      <th>year</th>\n      <th>month</th>\n      <th>day</th>\n      <th>weekday</th>\n    </tr>\n  </thead>\n  <tbody>\n    <tr>\n      <th>0</th>\n      <td>2019-12-31</td>\n      <td>0.0</td>\n      <td>0.0</td>\n      <td>NaN</td>\n      <td>2019</td>\n      <td>12</td>\n      <td>31</td>\n      <td>1</td>\n    </tr>\n    <tr>\n      <th>1</th>\n      <td>2020-01-01</td>\n      <td>0.0</td>\n      <td>0.0</td>\n      <td>NaN</td>\n      <td>2020</td>\n      <td>1</td>\n      <td>1</td>\n      <td>2</td>\n    </tr>\n    <tr>\n      <th>2</th>\n      <td>2020-01-02</td>\n      <td>0.0</td>\n      <td>0.0</td>\n      <td>NaN</td>\n      <td>2020</td>\n      <td>1</td>\n      <td>2</td>\n      <td>3</td>\n    </tr>\n    <tr>\n      <th>3</th>\n      <td>2020-01-03</td>\n      <td>0.0</td>\n      <td>0.0</td>\n      <td>NaN</td>\n      <td>2020</td>\n      <td>1</td>\n      <td>3</td>\n      <td>4</td>\n    </tr>\n    <tr>\n      <th>4</th>\n      <td>2020-01-04</td>\n      <td>0.0</td>\n      <td>0.0</td>\n      <td>NaN</td>\n      <td>2020</td>\n      <td>1</td>\n      <td>4</td>\n      <td>5</td>\n    </tr>\n    <tr>\n      <th>...</th>\n      <td>...</td>\n      <td>...</td>\n      <td>...</td>\n      <td>...</td>\n      <td>...</td>\n      <td>...</td>\n      <td>...</td>\n      <td>...</td>\n    </tr>\n    <tr>\n      <th>243</th>\n      <td>2020-08-30</td>\n      <td>1444.0</td>\n      <td>1.0</td>\n      <td>53541.0</td>\n      <td>2020</td>\n      <td>8</td>\n      <td>30</td>\n      <td>6</td>\n    </tr>\n    <tr>\n      <th>244</th>\n      <td>2020-08-31</td>\n      <td>1365.0</td>\n      <td>4.0</td>\n      <td>42583.0</td>\n      <td>2020</td>\n      <td>8</td>\n      <td>31</td>\n      <td>0</td>\n    </tr>\n    <tr>\n      <th>245</th>\n      <td>2020-09-01</td>\n      <td>996.0</td>\n      <td>6.0</td>\n      <td>54395.0</td>\n      <td>2020</td>\n      <td>9</td>\n      <td>1</td>\n      <td>1</td>\n    </tr>\n    <tr>\n      <th>246</th>\n      <td>2020-09-02</td>\n      <td>975.0</td>\n      <td>8.0</td>\n      <td>NaN</td>\n      <td>2020</td>\n      <td>9</td>\n      <td>2</td>\n      <td>2</td>\n    </tr>\n    <tr>\n      <th>247</th>\n      <td>2020-09-03</td>\n      <td>1326.0</td>\n      <td>6.0</td>\n      <td>NaN</td>\n      <td>2020</td>\n      <td>9</td>\n      <td>3</td>\n      <td>3</td>\n    </tr>\n  </tbody>\n</table>\n<p>248 rows × 8 columns</p>\n</div>"
     },
     "execution_count": 34,
     "metadata": {},
     "output_type": "execute_result"
    }
   ],
   "source": [
    "df['year'] = pd.DatetimeIndex(df.date).year\n",
    "df['month'] = pd.DatetimeIndex(df.date).month\n",
    "df['day'] = pd.DatetimeIndex(df.date).day\n",
    "df['weekday'] = pd.DatetimeIndex(df.date).weekday\n",
    "df"
   ],
   "metadata": {
    "collapsed": false
   }
  },
  {
   "cell_type": "code",
   "execution_count": 35,
   "outputs": [
    {
     "data": {
      "text/plain": "          date  new_cases  new_deaths  new_tests  year  month  day  weekday\n122 2020-05-01     1872.0       285.0    43732.0  2020      5    1        4\n123 2020-05-02     1965.0       269.0    31231.0  2020      5    2        5\n124 2020-05-03     1900.0       474.0    27047.0  2020      5    3        6\n125 2020-05-04     1389.0       174.0    22999.0  2020      5    4        0\n126 2020-05-05     1221.0       195.0    32211.0  2020      5    5        1\n127 2020-05-06     1075.0       236.0    37771.0  2020      5    6        2\n128 2020-05-07     1444.0       369.0    13665.0  2020      5    7        3\n129 2020-05-08     1401.0       274.0    45428.0  2020      5    8        4\n130 2020-05-09     1327.0       243.0    36091.0  2020      5    9        5\n131 2020-05-10     1083.0       194.0    31384.0  2020      5   10        6\n132 2020-05-11      802.0       165.0    25823.0  2020      5   11        0\n133 2020-05-12      744.0       179.0    39620.0  2020      5   12        1\n134 2020-05-13     1402.0       172.0    37049.0  2020      5   13        2\n135 2020-05-14      888.0       195.0    41131.0  2020      5   14        3\n136 2020-05-15      992.0       262.0    39027.0  2020      5   15        4\n137 2020-05-16      789.0       242.0    40657.0  2020      5   16        5\n138 2020-05-17      875.0       153.0    33505.0  2020      5   17        6\n139 2020-05-18      675.0       145.0    26101.0  2020      5   18        0\n140 2020-05-19      451.0        99.0    40226.0  2020      5   19        1\n141 2020-05-20      813.0       162.0    38617.0  2020      5   20        2\n142 2020-05-21      665.0       161.0    40644.0  2020      5   21        3\n143 2020-05-22      642.0       156.0    42987.0  2020      5   22        4\n144 2020-05-23      652.0       130.0    42579.0  2020      5   23        5\n145 2020-05-24      669.0       119.0    34206.0  2020      5   24        6\n146 2020-05-25      531.0        50.0    20676.0  2020      5   25        0\n147 2020-05-26      300.0        92.0    33944.0  2020      5   26        1\n148 2020-05-27      397.0        78.0    37299.0  2020      5   27        2\n149 2020-05-28      584.0       117.0    39838.0  2020      5   28        3\n150 2020-05-29      593.0        70.0    38233.0  2020      5   29        4\n151 2020-05-30      516.0        87.0    36051.0  2020      5   30        5\n152 2020-05-31      416.0       111.0    28948.0  2020      5   31        6",
      "text/html": "<div>\n<style scoped>\n    .dataframe tbody tr th:only-of-type {\n        vertical-align: middle;\n    }\n\n    .dataframe tbody tr th {\n        vertical-align: top;\n    }\n\n    .dataframe thead th {\n        text-align: right;\n    }\n</style>\n<table border=\"1\" class=\"dataframe\">\n  <thead>\n    <tr style=\"text-align: right;\">\n      <th></th>\n      <th>date</th>\n      <th>new_cases</th>\n      <th>new_deaths</th>\n      <th>new_tests</th>\n      <th>year</th>\n      <th>month</th>\n      <th>day</th>\n      <th>weekday</th>\n    </tr>\n  </thead>\n  <tbody>\n    <tr>\n      <th>122</th>\n      <td>2020-05-01</td>\n      <td>1872.0</td>\n      <td>285.0</td>\n      <td>43732.0</td>\n      <td>2020</td>\n      <td>5</td>\n      <td>1</td>\n      <td>4</td>\n    </tr>\n    <tr>\n      <th>123</th>\n      <td>2020-05-02</td>\n      <td>1965.0</td>\n      <td>269.0</td>\n      <td>31231.0</td>\n      <td>2020</td>\n      <td>5</td>\n      <td>2</td>\n      <td>5</td>\n    </tr>\n    <tr>\n      <th>124</th>\n      <td>2020-05-03</td>\n      <td>1900.0</td>\n      <td>474.0</td>\n      <td>27047.0</td>\n      <td>2020</td>\n      <td>5</td>\n      <td>3</td>\n      <td>6</td>\n    </tr>\n    <tr>\n      <th>125</th>\n      <td>2020-05-04</td>\n      <td>1389.0</td>\n      <td>174.0</td>\n      <td>22999.0</td>\n      <td>2020</td>\n      <td>5</td>\n      <td>4</td>\n      <td>0</td>\n    </tr>\n    <tr>\n      <th>126</th>\n      <td>2020-05-05</td>\n      <td>1221.0</td>\n      <td>195.0</td>\n      <td>32211.0</td>\n      <td>2020</td>\n      <td>5</td>\n      <td>5</td>\n      <td>1</td>\n    </tr>\n    <tr>\n      <th>127</th>\n      <td>2020-05-06</td>\n      <td>1075.0</td>\n      <td>236.0</td>\n      <td>37771.0</td>\n      <td>2020</td>\n      <td>5</td>\n      <td>6</td>\n      <td>2</td>\n    </tr>\n    <tr>\n      <th>128</th>\n      <td>2020-05-07</td>\n      <td>1444.0</td>\n      <td>369.0</td>\n      <td>13665.0</td>\n      <td>2020</td>\n      <td>5</td>\n      <td>7</td>\n      <td>3</td>\n    </tr>\n    <tr>\n      <th>129</th>\n      <td>2020-05-08</td>\n      <td>1401.0</td>\n      <td>274.0</td>\n      <td>45428.0</td>\n      <td>2020</td>\n      <td>5</td>\n      <td>8</td>\n      <td>4</td>\n    </tr>\n    <tr>\n      <th>130</th>\n      <td>2020-05-09</td>\n      <td>1327.0</td>\n      <td>243.0</td>\n      <td>36091.0</td>\n      <td>2020</td>\n      <td>5</td>\n      <td>9</td>\n      <td>5</td>\n    </tr>\n    <tr>\n      <th>131</th>\n      <td>2020-05-10</td>\n      <td>1083.0</td>\n      <td>194.0</td>\n      <td>31384.0</td>\n      <td>2020</td>\n      <td>5</td>\n      <td>10</td>\n      <td>6</td>\n    </tr>\n    <tr>\n      <th>132</th>\n      <td>2020-05-11</td>\n      <td>802.0</td>\n      <td>165.0</td>\n      <td>25823.0</td>\n      <td>2020</td>\n      <td>5</td>\n      <td>11</td>\n      <td>0</td>\n    </tr>\n    <tr>\n      <th>133</th>\n      <td>2020-05-12</td>\n      <td>744.0</td>\n      <td>179.0</td>\n      <td>39620.0</td>\n      <td>2020</td>\n      <td>5</td>\n      <td>12</td>\n      <td>1</td>\n    </tr>\n    <tr>\n      <th>134</th>\n      <td>2020-05-13</td>\n      <td>1402.0</td>\n      <td>172.0</td>\n      <td>37049.0</td>\n      <td>2020</td>\n      <td>5</td>\n      <td>13</td>\n      <td>2</td>\n    </tr>\n    <tr>\n      <th>135</th>\n      <td>2020-05-14</td>\n      <td>888.0</td>\n      <td>195.0</td>\n      <td>41131.0</td>\n      <td>2020</td>\n      <td>5</td>\n      <td>14</td>\n      <td>3</td>\n    </tr>\n    <tr>\n      <th>136</th>\n      <td>2020-05-15</td>\n      <td>992.0</td>\n      <td>262.0</td>\n      <td>39027.0</td>\n      <td>2020</td>\n      <td>5</td>\n      <td>15</td>\n      <td>4</td>\n    </tr>\n    <tr>\n      <th>137</th>\n      <td>2020-05-16</td>\n      <td>789.0</td>\n      <td>242.0</td>\n      <td>40657.0</td>\n      <td>2020</td>\n      <td>5</td>\n      <td>16</td>\n      <td>5</td>\n    </tr>\n    <tr>\n      <th>138</th>\n      <td>2020-05-17</td>\n      <td>875.0</td>\n      <td>153.0</td>\n      <td>33505.0</td>\n      <td>2020</td>\n      <td>5</td>\n      <td>17</td>\n      <td>6</td>\n    </tr>\n    <tr>\n      <th>139</th>\n      <td>2020-05-18</td>\n      <td>675.0</td>\n      <td>145.0</td>\n      <td>26101.0</td>\n      <td>2020</td>\n      <td>5</td>\n      <td>18</td>\n      <td>0</td>\n    </tr>\n    <tr>\n      <th>140</th>\n      <td>2020-05-19</td>\n      <td>451.0</td>\n      <td>99.0</td>\n      <td>40226.0</td>\n      <td>2020</td>\n      <td>5</td>\n      <td>19</td>\n      <td>1</td>\n    </tr>\n    <tr>\n      <th>141</th>\n      <td>2020-05-20</td>\n      <td>813.0</td>\n      <td>162.0</td>\n      <td>38617.0</td>\n      <td>2020</td>\n      <td>5</td>\n      <td>20</td>\n      <td>2</td>\n    </tr>\n    <tr>\n      <th>142</th>\n      <td>2020-05-21</td>\n      <td>665.0</td>\n      <td>161.0</td>\n      <td>40644.0</td>\n      <td>2020</td>\n      <td>5</td>\n      <td>21</td>\n      <td>3</td>\n    </tr>\n    <tr>\n      <th>143</th>\n      <td>2020-05-22</td>\n      <td>642.0</td>\n      <td>156.0</td>\n      <td>42987.0</td>\n      <td>2020</td>\n      <td>5</td>\n      <td>22</td>\n      <td>4</td>\n    </tr>\n    <tr>\n      <th>144</th>\n      <td>2020-05-23</td>\n      <td>652.0</td>\n      <td>130.0</td>\n      <td>42579.0</td>\n      <td>2020</td>\n      <td>5</td>\n      <td>23</td>\n      <td>5</td>\n    </tr>\n    <tr>\n      <th>145</th>\n      <td>2020-05-24</td>\n      <td>669.0</td>\n      <td>119.0</td>\n      <td>34206.0</td>\n      <td>2020</td>\n      <td>5</td>\n      <td>24</td>\n      <td>6</td>\n    </tr>\n    <tr>\n      <th>146</th>\n      <td>2020-05-25</td>\n      <td>531.0</td>\n      <td>50.0</td>\n      <td>20676.0</td>\n      <td>2020</td>\n      <td>5</td>\n      <td>25</td>\n      <td>0</td>\n    </tr>\n    <tr>\n      <th>147</th>\n      <td>2020-05-26</td>\n      <td>300.0</td>\n      <td>92.0</td>\n      <td>33944.0</td>\n      <td>2020</td>\n      <td>5</td>\n      <td>26</td>\n      <td>1</td>\n    </tr>\n    <tr>\n      <th>148</th>\n      <td>2020-05-27</td>\n      <td>397.0</td>\n      <td>78.0</td>\n      <td>37299.0</td>\n      <td>2020</td>\n      <td>5</td>\n      <td>27</td>\n      <td>2</td>\n    </tr>\n    <tr>\n      <th>149</th>\n      <td>2020-05-28</td>\n      <td>584.0</td>\n      <td>117.0</td>\n      <td>39838.0</td>\n      <td>2020</td>\n      <td>5</td>\n      <td>28</td>\n      <td>3</td>\n    </tr>\n    <tr>\n      <th>150</th>\n      <td>2020-05-29</td>\n      <td>593.0</td>\n      <td>70.0</td>\n      <td>38233.0</td>\n      <td>2020</td>\n      <td>5</td>\n      <td>29</td>\n      <td>4</td>\n    </tr>\n    <tr>\n      <th>151</th>\n      <td>2020-05-30</td>\n      <td>516.0</td>\n      <td>87.0</td>\n      <td>36051.0</td>\n      <td>2020</td>\n      <td>5</td>\n      <td>30</td>\n      <td>5</td>\n    </tr>\n    <tr>\n      <th>152</th>\n      <td>2020-05-31</td>\n      <td>416.0</td>\n      <td>111.0</td>\n      <td>28948.0</td>\n      <td>2020</td>\n      <td>5</td>\n      <td>31</td>\n      <td>6</td>\n    </tr>\n  </tbody>\n</table>\n</div>"
     },
     "execution_count": 35,
     "metadata": {},
     "output_type": "execute_result"
    }
   ],
   "source": [
    "# Query the rows for May\n",
    "df_may = df[df.month == 5]\n",
    "df_may"
   ],
   "metadata": {
    "collapsed": false
   }
  },
  {
   "cell_type": "code",
   "execution_count": 36,
   "outputs": [
    {
     "data": {
      "text/plain": "     new_cases  new_deaths  new_tests\n122     1872.0       285.0    43732.0\n123     1965.0       269.0    31231.0\n124     1900.0       474.0    27047.0\n125     1389.0       174.0    22999.0\n126     1221.0       195.0    32211.0\n127     1075.0       236.0    37771.0\n128     1444.0       369.0    13665.0\n129     1401.0       274.0    45428.0\n130     1327.0       243.0    36091.0\n131     1083.0       194.0    31384.0\n132      802.0       165.0    25823.0\n133      744.0       179.0    39620.0\n134     1402.0       172.0    37049.0\n135      888.0       195.0    41131.0\n136      992.0       262.0    39027.0\n137      789.0       242.0    40657.0\n138      875.0       153.0    33505.0\n139      675.0       145.0    26101.0\n140      451.0        99.0    40226.0\n141      813.0       162.0    38617.0\n142      665.0       161.0    40644.0\n143      642.0       156.0    42987.0\n144      652.0       130.0    42579.0\n145      669.0       119.0    34206.0\n146      531.0        50.0    20676.0\n147      300.0        92.0    33944.0\n148      397.0        78.0    37299.0\n149      584.0       117.0    39838.0\n150      593.0        70.0    38233.0\n151      516.0        87.0    36051.0\n152      416.0       111.0    28948.0",
      "text/html": "<div>\n<style scoped>\n    .dataframe tbody tr th:only-of-type {\n        vertical-align: middle;\n    }\n\n    .dataframe tbody tr th {\n        vertical-align: top;\n    }\n\n    .dataframe thead th {\n        text-align: right;\n    }\n</style>\n<table border=\"1\" class=\"dataframe\">\n  <thead>\n    <tr style=\"text-align: right;\">\n      <th></th>\n      <th>new_cases</th>\n      <th>new_deaths</th>\n      <th>new_tests</th>\n    </tr>\n  </thead>\n  <tbody>\n    <tr>\n      <th>122</th>\n      <td>1872.0</td>\n      <td>285.0</td>\n      <td>43732.0</td>\n    </tr>\n    <tr>\n      <th>123</th>\n      <td>1965.0</td>\n      <td>269.0</td>\n      <td>31231.0</td>\n    </tr>\n    <tr>\n      <th>124</th>\n      <td>1900.0</td>\n      <td>474.0</td>\n      <td>27047.0</td>\n    </tr>\n    <tr>\n      <th>125</th>\n      <td>1389.0</td>\n      <td>174.0</td>\n      <td>22999.0</td>\n    </tr>\n    <tr>\n      <th>126</th>\n      <td>1221.0</td>\n      <td>195.0</td>\n      <td>32211.0</td>\n    </tr>\n    <tr>\n      <th>127</th>\n      <td>1075.0</td>\n      <td>236.0</td>\n      <td>37771.0</td>\n    </tr>\n    <tr>\n      <th>128</th>\n      <td>1444.0</td>\n      <td>369.0</td>\n      <td>13665.0</td>\n    </tr>\n    <tr>\n      <th>129</th>\n      <td>1401.0</td>\n      <td>274.0</td>\n      <td>45428.0</td>\n    </tr>\n    <tr>\n      <th>130</th>\n      <td>1327.0</td>\n      <td>243.0</td>\n      <td>36091.0</td>\n    </tr>\n    <tr>\n      <th>131</th>\n      <td>1083.0</td>\n      <td>194.0</td>\n      <td>31384.0</td>\n    </tr>\n    <tr>\n      <th>132</th>\n      <td>802.0</td>\n      <td>165.0</td>\n      <td>25823.0</td>\n    </tr>\n    <tr>\n      <th>133</th>\n      <td>744.0</td>\n      <td>179.0</td>\n      <td>39620.0</td>\n    </tr>\n    <tr>\n      <th>134</th>\n      <td>1402.0</td>\n      <td>172.0</td>\n      <td>37049.0</td>\n    </tr>\n    <tr>\n      <th>135</th>\n      <td>888.0</td>\n      <td>195.0</td>\n      <td>41131.0</td>\n    </tr>\n    <tr>\n      <th>136</th>\n      <td>992.0</td>\n      <td>262.0</td>\n      <td>39027.0</td>\n    </tr>\n    <tr>\n      <th>137</th>\n      <td>789.0</td>\n      <td>242.0</td>\n      <td>40657.0</td>\n    </tr>\n    <tr>\n      <th>138</th>\n      <td>875.0</td>\n      <td>153.0</td>\n      <td>33505.0</td>\n    </tr>\n    <tr>\n      <th>139</th>\n      <td>675.0</td>\n      <td>145.0</td>\n      <td>26101.0</td>\n    </tr>\n    <tr>\n      <th>140</th>\n      <td>451.0</td>\n      <td>99.0</td>\n      <td>40226.0</td>\n    </tr>\n    <tr>\n      <th>141</th>\n      <td>813.0</td>\n      <td>162.0</td>\n      <td>38617.0</td>\n    </tr>\n    <tr>\n      <th>142</th>\n      <td>665.0</td>\n      <td>161.0</td>\n      <td>40644.0</td>\n    </tr>\n    <tr>\n      <th>143</th>\n      <td>642.0</td>\n      <td>156.0</td>\n      <td>42987.0</td>\n    </tr>\n    <tr>\n      <th>144</th>\n      <td>652.0</td>\n      <td>130.0</td>\n      <td>42579.0</td>\n    </tr>\n    <tr>\n      <th>145</th>\n      <td>669.0</td>\n      <td>119.0</td>\n      <td>34206.0</td>\n    </tr>\n    <tr>\n      <th>146</th>\n      <td>531.0</td>\n      <td>50.0</td>\n      <td>20676.0</td>\n    </tr>\n    <tr>\n      <th>147</th>\n      <td>300.0</td>\n      <td>92.0</td>\n      <td>33944.0</td>\n    </tr>\n    <tr>\n      <th>148</th>\n      <td>397.0</td>\n      <td>78.0</td>\n      <td>37299.0</td>\n    </tr>\n    <tr>\n      <th>149</th>\n      <td>584.0</td>\n      <td>117.0</td>\n      <td>39838.0</td>\n    </tr>\n    <tr>\n      <th>150</th>\n      <td>593.0</td>\n      <td>70.0</td>\n      <td>38233.0</td>\n    </tr>\n    <tr>\n      <th>151</th>\n      <td>516.0</td>\n      <td>87.0</td>\n      <td>36051.0</td>\n    </tr>\n    <tr>\n      <th>152</th>\n      <td>416.0</td>\n      <td>111.0</td>\n      <td>28948.0</td>\n    </tr>\n  </tbody>\n</table>\n</div>"
     },
     "execution_count": 36,
     "metadata": {},
     "output_type": "execute_result"
    }
   ],
   "source": [
    "# Extract the subset of columns to be aggregated\n",
    "df_may_metrics = df_may[['new_cases', 'new_deaths', 'new_tests']]\n",
    "df_may_metrics"
   ],
   "metadata": {
    "collapsed": false
   }
  },
  {
   "cell_type": "code",
   "execution_count": 38,
   "outputs": [
    {
     "data": {
      "text/plain": "new_cases       29073.0\nnew_deaths       5658.0\nnew_tests     1078720.0\ndtype: float64"
     },
     "execution_count": 38,
     "metadata": {},
     "output_type": "execute_result"
    }
   ],
   "source": [
    "may_total = df_may_metrics.sum()\n",
    "may_total"
   ],
   "metadata": {
    "collapsed": false
   }
  },
  {
   "cell_type": "code",
   "execution_count": 39,
   "outputs": [
    {
     "data": {
      "text/plain": "new_cases       29073.0\nnew_deaths       5658.0\nnew_tests     1078720.0\ndtype: float64"
     },
     "execution_count": 39,
     "metadata": {},
     "output_type": "execute_result"
    }
   ],
   "source": [
    "# Using a single line\n",
    "df[df.month == 5][['new_cases', 'new_deaths', 'new_tests']].sum()"
   ],
   "metadata": {
    "collapsed": false
   }
  },
  {
   "cell_type": "code",
   "execution_count": 40,
   "outputs": [
    {
     "data": {
      "text/plain": "1096.6149193548388"
     },
     "execution_count": 40,
     "metadata": {},
     "output_type": "execute_result"
    }
   ],
   "source": [
    "# Overall Average\n",
    "df.new_cases.mean()"
   ],
   "metadata": {
    "collapsed": false
   }
  },
  {
   "cell_type": "code",
   "execution_count": 41,
   "outputs": [
    {
     "data": {
      "text/plain": "1247.2571428571428"
     },
     "execution_count": 41,
     "metadata": {},
     "output_type": "execute_result"
    }
   ],
   "source": [
    "# Average for Sundays\n",
    "df[df.weekday == 6].new_cases.mean()"
   ],
   "metadata": {
    "collapsed": false
   }
  },
  {
   "cell_type": "markdown",
   "source": [
    "## Group By and aggregation"
   ],
   "metadata": {
    "collapsed": false
   }
  },
  {
   "cell_type": "code",
   "execution_count": 43,
   "outputs": [
    {
     "data": {
      "text/plain": "<pandas.core.groupby.generic.DataFrameGroupBy object at 0x7f7bd8d84880>"
     },
     "execution_count": 43,
     "metadata": {},
     "output_type": "execute_result"
    }
   ],
   "source": [
    "covid_month_df = df.groupby('month')[['new_cases', 'new_deaths', 'new_tests']]\n",
    "covid_month_df['new']"
   ],
   "metadata": {
    "collapsed": false
   }
  },
  {
   "cell_type": "code",
   "execution_count": 45,
   "outputs": [
    {
     "data": {
      "text/plain": "       new_cases  new_deaths  new_tests\nmonth                                  \n1            3.0         0.0        0.0\n2          885.0        21.0        0.0\n3       100851.0     11570.0        0.0\n4       101852.0     16091.0   419591.0\n5        29073.0      5658.0  1078720.0\n6         8217.5      1404.0   830354.0\n7         6722.0       388.0   797692.0\n8        21060.0       345.0  1098704.0\n9         3297.0        20.0    54395.0\n12           0.0         0.0        0.0",
      "text/html": "<div>\n<style scoped>\n    .dataframe tbody tr th:only-of-type {\n        vertical-align: middle;\n    }\n\n    .dataframe tbody tr th {\n        vertical-align: top;\n    }\n\n    .dataframe thead th {\n        text-align: right;\n    }\n</style>\n<table border=\"1\" class=\"dataframe\">\n  <thead>\n    <tr style=\"text-align: right;\">\n      <th></th>\n      <th>new_cases</th>\n      <th>new_deaths</th>\n      <th>new_tests</th>\n    </tr>\n    <tr>\n      <th>month</th>\n      <th></th>\n      <th></th>\n      <th></th>\n    </tr>\n  </thead>\n  <tbody>\n    <tr>\n      <th>1</th>\n      <td>3.0</td>\n      <td>0.0</td>\n      <td>0.0</td>\n    </tr>\n    <tr>\n      <th>2</th>\n      <td>885.0</td>\n      <td>21.0</td>\n      <td>0.0</td>\n    </tr>\n    <tr>\n      <th>3</th>\n      <td>100851.0</td>\n      <td>11570.0</td>\n      <td>0.0</td>\n    </tr>\n    <tr>\n      <th>4</th>\n      <td>101852.0</td>\n      <td>16091.0</td>\n      <td>419591.0</td>\n    </tr>\n    <tr>\n      <th>5</th>\n      <td>29073.0</td>\n      <td>5658.0</td>\n      <td>1078720.0</td>\n    </tr>\n    <tr>\n      <th>6</th>\n      <td>8217.5</td>\n      <td>1404.0</td>\n      <td>830354.0</td>\n    </tr>\n    <tr>\n      <th>7</th>\n      <td>6722.0</td>\n      <td>388.0</td>\n      <td>797692.0</td>\n    </tr>\n    <tr>\n      <th>8</th>\n      <td>21060.0</td>\n      <td>345.0</td>\n      <td>1098704.0</td>\n    </tr>\n    <tr>\n      <th>9</th>\n      <td>3297.0</td>\n      <td>20.0</td>\n      <td>54395.0</td>\n    </tr>\n    <tr>\n      <th>12</th>\n      <td>0.0</td>\n      <td>0.0</td>\n      <td>0.0</td>\n    </tr>\n  </tbody>\n</table>\n</div>"
     },
     "execution_count": 45,
     "metadata": {},
     "output_type": "execute_result"
    }
   ],
   "source": [
    "monthly_grps = df.groupby('month')\n",
    "monthly_grps[['new_cases', 'new_deaths', 'new_tests']].sum()"
   ],
   "metadata": {
    "collapsed": false
   }
  },
  {
   "cell_type": "code",
   "execution_count": 46,
   "outputs": [
    {
     "data": {
      "text/plain": "           new_cases  new_deaths     new_tests\nweekday                                       \n0        1109.142857  124.800000  19826.700000\n1         918.638889  129.944444  31166.900000\n2         927.305556  144.750000  34665.210526\n3        1095.666667  141.472222  34488.578947\n4        1189.714286  144.885714  39225.684211\n5        1198.528571  157.000000  34589.473684\n6        1247.257143  159.457143  28588.105263",
      "text/html": "<div>\n<style scoped>\n    .dataframe tbody tr th:only-of-type {\n        vertical-align: middle;\n    }\n\n    .dataframe tbody tr th {\n        vertical-align: top;\n    }\n\n    .dataframe thead th {\n        text-align: right;\n    }\n</style>\n<table border=\"1\" class=\"dataframe\">\n  <thead>\n    <tr style=\"text-align: right;\">\n      <th></th>\n      <th>new_cases</th>\n      <th>new_deaths</th>\n      <th>new_tests</th>\n    </tr>\n    <tr>\n      <th>weekday</th>\n      <th></th>\n      <th></th>\n      <th></th>\n    </tr>\n  </thead>\n  <tbody>\n    <tr>\n      <th>0</th>\n      <td>1109.142857</td>\n      <td>124.800000</td>\n      <td>19826.700000</td>\n    </tr>\n    <tr>\n      <th>1</th>\n      <td>918.638889</td>\n      <td>129.944444</td>\n      <td>31166.900000</td>\n    </tr>\n    <tr>\n      <th>2</th>\n      <td>927.305556</td>\n      <td>144.750000</td>\n      <td>34665.210526</td>\n    </tr>\n    <tr>\n      <th>3</th>\n      <td>1095.666667</td>\n      <td>141.472222</td>\n      <td>34488.578947</td>\n    </tr>\n    <tr>\n      <th>4</th>\n      <td>1189.714286</td>\n      <td>144.885714</td>\n      <td>39225.684211</td>\n    </tr>\n    <tr>\n      <th>5</th>\n      <td>1198.528571</td>\n      <td>157.000000</td>\n      <td>34589.473684</td>\n    </tr>\n    <tr>\n      <th>6</th>\n      <td>1247.257143</td>\n      <td>159.457143</td>\n      <td>28588.105263</td>\n    </tr>\n  </tbody>\n</table>\n</div>"
     },
     "execution_count": 46,
     "metadata": {},
     "output_type": "execute_result"
    }
   ],
   "source": [
    "covid_week_df = df.groupby('weekday')[['new_cases', 'new_deaths', 'new_tests']]\n",
    "covid_week_df.mean()"
   ],
   "metadata": {
    "collapsed": false
   }
  },
  {
   "cell_type": "code",
   "execution_count": 47,
   "outputs": [
    {
     "data": {
      "text/plain": "          date  new_cases  new_deaths  new_tests  year  month  day  weekday  \\\n0   2019-12-31        0.0         0.0        NaN  2019     12   31        1   \n1   2020-01-01        0.0         0.0        NaN  2020      1    1        2   \n2   2020-01-02        0.0         0.0        NaN  2020      1    2        3   \n3   2020-01-03        0.0         0.0        NaN  2020      1    3        4   \n4   2020-01-04        0.0         0.0        NaN  2020      1    4        5   \n..         ...        ...         ...        ...   ...    ...  ...      ...   \n243 2020-08-30     1444.0         1.0    53541.0  2020      8   30        6   \n244 2020-08-31     1365.0         4.0    42583.0  2020      8   31        0   \n245 2020-09-01      996.0         6.0    54395.0  2020      9    1        1   \n246 2020-09-02      975.0         8.0        NaN  2020      9    2        2   \n247 2020-09-03     1326.0         6.0        NaN  2020      9    3        3   \n\n     total_cases  total_tests  total_deaths  \n0            0.0          NaN           0.0  \n1            0.0          NaN           0.0  \n2            0.0          NaN           0.0  \n3            0.0          NaN           0.0  \n4            0.0          NaN           0.0  \n..           ...          ...           ...  \n243     267298.5    4182478.0       35473.0  \n244     268663.5    4225061.0       35477.0  \n245     269659.5    4279456.0       35483.0  \n246     270634.5          NaN       35491.0  \n247     271960.5          NaN       35497.0  \n\n[248 rows x 11 columns]",
      "text/html": "<div>\n<style scoped>\n    .dataframe tbody tr th:only-of-type {\n        vertical-align: middle;\n    }\n\n    .dataframe tbody tr th {\n        vertical-align: top;\n    }\n\n    .dataframe thead th {\n        text-align: right;\n    }\n</style>\n<table border=\"1\" class=\"dataframe\">\n  <thead>\n    <tr style=\"text-align: right;\">\n      <th></th>\n      <th>date</th>\n      <th>new_cases</th>\n      <th>new_deaths</th>\n      <th>new_tests</th>\n      <th>year</th>\n      <th>month</th>\n      <th>day</th>\n      <th>weekday</th>\n      <th>total_cases</th>\n      <th>total_tests</th>\n      <th>total_deaths</th>\n    </tr>\n  </thead>\n  <tbody>\n    <tr>\n      <th>0</th>\n      <td>2019-12-31</td>\n      <td>0.0</td>\n      <td>0.0</td>\n      <td>NaN</td>\n      <td>2019</td>\n      <td>12</td>\n      <td>31</td>\n      <td>1</td>\n      <td>0.0</td>\n      <td>NaN</td>\n      <td>0.0</td>\n    </tr>\n    <tr>\n      <th>1</th>\n      <td>2020-01-01</td>\n      <td>0.0</td>\n      <td>0.0</td>\n      <td>NaN</td>\n      <td>2020</td>\n      <td>1</td>\n      <td>1</td>\n      <td>2</td>\n      <td>0.0</td>\n      <td>NaN</td>\n      <td>0.0</td>\n    </tr>\n    <tr>\n      <th>2</th>\n      <td>2020-01-02</td>\n      <td>0.0</td>\n      <td>0.0</td>\n      <td>NaN</td>\n      <td>2020</td>\n      <td>1</td>\n      <td>2</td>\n      <td>3</td>\n      <td>0.0</td>\n      <td>NaN</td>\n      <td>0.0</td>\n    </tr>\n    <tr>\n      <th>3</th>\n      <td>2020-01-03</td>\n      <td>0.0</td>\n      <td>0.0</td>\n      <td>NaN</td>\n      <td>2020</td>\n      <td>1</td>\n      <td>3</td>\n      <td>4</td>\n      <td>0.0</td>\n      <td>NaN</td>\n      <td>0.0</td>\n    </tr>\n    <tr>\n      <th>4</th>\n      <td>2020-01-04</td>\n      <td>0.0</td>\n      <td>0.0</td>\n      <td>NaN</td>\n      <td>2020</td>\n      <td>1</td>\n      <td>4</td>\n      <td>5</td>\n      <td>0.0</td>\n      <td>NaN</td>\n      <td>0.0</td>\n    </tr>\n    <tr>\n      <th>...</th>\n      <td>...</td>\n      <td>...</td>\n      <td>...</td>\n      <td>...</td>\n      <td>...</td>\n      <td>...</td>\n      <td>...</td>\n      <td>...</td>\n      <td>...</td>\n      <td>...</td>\n      <td>...</td>\n    </tr>\n    <tr>\n      <th>243</th>\n      <td>2020-08-30</td>\n      <td>1444.0</td>\n      <td>1.0</td>\n      <td>53541.0</td>\n      <td>2020</td>\n      <td>8</td>\n      <td>30</td>\n      <td>6</td>\n      <td>267298.5</td>\n      <td>4182478.0</td>\n      <td>35473.0</td>\n    </tr>\n    <tr>\n      <th>244</th>\n      <td>2020-08-31</td>\n      <td>1365.0</td>\n      <td>4.0</td>\n      <td>42583.0</td>\n      <td>2020</td>\n      <td>8</td>\n      <td>31</td>\n      <td>0</td>\n      <td>268663.5</td>\n      <td>4225061.0</td>\n      <td>35477.0</td>\n    </tr>\n    <tr>\n      <th>245</th>\n      <td>2020-09-01</td>\n      <td>996.0</td>\n      <td>6.0</td>\n      <td>54395.0</td>\n      <td>2020</td>\n      <td>9</td>\n      <td>1</td>\n      <td>1</td>\n      <td>269659.5</td>\n      <td>4279456.0</td>\n      <td>35483.0</td>\n    </tr>\n    <tr>\n      <th>246</th>\n      <td>2020-09-02</td>\n      <td>975.0</td>\n      <td>8.0</td>\n      <td>NaN</td>\n      <td>2020</td>\n      <td>9</td>\n      <td>2</td>\n      <td>2</td>\n      <td>270634.5</td>\n      <td>NaN</td>\n      <td>35491.0</td>\n    </tr>\n    <tr>\n      <th>247</th>\n      <td>2020-09-03</td>\n      <td>1326.0</td>\n      <td>6.0</td>\n      <td>NaN</td>\n      <td>2020</td>\n      <td>9</td>\n      <td>3</td>\n      <td>3</td>\n      <td>271960.5</td>\n      <td>NaN</td>\n      <td>35497.0</td>\n    </tr>\n  </tbody>\n</table>\n<p>248 rows × 11 columns</p>\n</div>"
     },
     "execution_count": 47,
     "metadata": {},
     "output_type": "execute_result"
    }
   ],
   "source": [
    "df['total_cases'] = df.new_cases.cumsum()\n",
    "df['total_tests'] = df.new_tests.cumsum()\n",
    "df['total_deaths'] = df.new_deaths.cumsum()\n",
    "df"
   ],
   "metadata": {
    "collapsed": false
   }
  },
  {
   "cell_type": "markdown",
   "source": [
    "## Merging data from different sources"
   ],
   "metadata": {
    "collapsed": false
   }
  },
  {
   "cell_type": "code",
   "execution_count": 48,
   "outputs": [
    {
     "data": {
      "text/plain": "('locations.csv', <http.client.HTTPMessage at 0x7f7bd8d55060>)"
     },
     "execution_count": 48,
     "metadata": {},
     "output_type": "execute_result"
    }
   ],
   "source": [
    "urlretrieve('https://gist.githubusercontent.com/aakashns/8684589ef4f266116cdce023377fc9c8/raw/99ce3826b2a9d1e6d0bde7e9e559fc8b6e9ac88b/locations.csv',\n",
    "            'locations.csv')"
   ],
   "metadata": {
    "collapsed": false
   }
  },
  {
   "cell_type": "code",
   "execution_count": 49,
   "outputs": [
    {
     "data": {
      "text/plain": "          location continent    population  life_expectancy  \\\n0      Afghanistan      Asia  3.892834e+07            64.83   \n1          Albania    Europe  2.877800e+06            78.57   \n2          Algeria    Africa  4.385104e+07            76.88   \n3          Andorra    Europe  7.726500e+04            83.73   \n4           Angola    Africa  3.286627e+07            61.15   \n..             ...       ...           ...              ...   \n207          Yemen      Asia  2.982597e+07            66.12   \n208         Zambia    Africa  1.838396e+07            63.89   \n209       Zimbabwe    Africa  1.486293e+07            61.49   \n210          World       NaN  7.794799e+09            72.58   \n211  International       NaN           NaN              NaN   \n\n     hospital_beds_per_thousand  gdp_per_capita  \n0                         0.500        1803.987  \n1                         2.890       11803.431  \n2                         1.900       13913.839  \n3                           NaN             NaN  \n4                           NaN        5819.495  \n..                          ...             ...  \n207                       0.700        1479.147  \n208                       2.000        3689.251  \n209                       1.700        1899.775  \n210                       2.705       15469.207  \n211                         NaN             NaN  \n\n[212 rows x 6 columns]",
      "text/html": "<div>\n<style scoped>\n    .dataframe tbody tr th:only-of-type {\n        vertical-align: middle;\n    }\n\n    .dataframe tbody tr th {\n        vertical-align: top;\n    }\n\n    .dataframe thead th {\n        text-align: right;\n    }\n</style>\n<table border=\"1\" class=\"dataframe\">\n  <thead>\n    <tr style=\"text-align: right;\">\n      <th></th>\n      <th>location</th>\n      <th>continent</th>\n      <th>population</th>\n      <th>life_expectancy</th>\n      <th>hospital_beds_per_thousand</th>\n      <th>gdp_per_capita</th>\n    </tr>\n  </thead>\n  <tbody>\n    <tr>\n      <th>0</th>\n      <td>Afghanistan</td>\n      <td>Asia</td>\n      <td>3.892834e+07</td>\n      <td>64.83</td>\n      <td>0.500</td>\n      <td>1803.987</td>\n    </tr>\n    <tr>\n      <th>1</th>\n      <td>Albania</td>\n      <td>Europe</td>\n      <td>2.877800e+06</td>\n      <td>78.57</td>\n      <td>2.890</td>\n      <td>11803.431</td>\n    </tr>\n    <tr>\n      <th>2</th>\n      <td>Algeria</td>\n      <td>Africa</td>\n      <td>4.385104e+07</td>\n      <td>76.88</td>\n      <td>1.900</td>\n      <td>13913.839</td>\n    </tr>\n    <tr>\n      <th>3</th>\n      <td>Andorra</td>\n      <td>Europe</td>\n      <td>7.726500e+04</td>\n      <td>83.73</td>\n      <td>NaN</td>\n      <td>NaN</td>\n    </tr>\n    <tr>\n      <th>4</th>\n      <td>Angola</td>\n      <td>Africa</td>\n      <td>3.286627e+07</td>\n      <td>61.15</td>\n      <td>NaN</td>\n      <td>5819.495</td>\n    </tr>\n    <tr>\n      <th>...</th>\n      <td>...</td>\n      <td>...</td>\n      <td>...</td>\n      <td>...</td>\n      <td>...</td>\n      <td>...</td>\n    </tr>\n    <tr>\n      <th>207</th>\n      <td>Yemen</td>\n      <td>Asia</td>\n      <td>2.982597e+07</td>\n      <td>66.12</td>\n      <td>0.700</td>\n      <td>1479.147</td>\n    </tr>\n    <tr>\n      <th>208</th>\n      <td>Zambia</td>\n      <td>Africa</td>\n      <td>1.838396e+07</td>\n      <td>63.89</td>\n      <td>2.000</td>\n      <td>3689.251</td>\n    </tr>\n    <tr>\n      <th>209</th>\n      <td>Zimbabwe</td>\n      <td>Africa</td>\n      <td>1.486293e+07</td>\n      <td>61.49</td>\n      <td>1.700</td>\n      <td>1899.775</td>\n    </tr>\n    <tr>\n      <th>210</th>\n      <td>World</td>\n      <td>NaN</td>\n      <td>7.794799e+09</td>\n      <td>72.58</td>\n      <td>2.705</td>\n      <td>15469.207</td>\n    </tr>\n    <tr>\n      <th>211</th>\n      <td>International</td>\n      <td>NaN</td>\n      <td>NaN</td>\n      <td>NaN</td>\n      <td>NaN</td>\n      <td>NaN</td>\n    </tr>\n  </tbody>\n</table>\n<p>212 rows × 6 columns</p>\n</div>"
     },
     "execution_count": 49,
     "metadata": {},
     "output_type": "execute_result"
    }
   ],
   "source": [
    "loc = pd.read_csv('locations.csv')\n",
    "loc"
   ],
   "metadata": {
    "collapsed": false
   }
  },
  {
   "cell_type": "code",
   "execution_count": 50,
   "outputs": [
    {
     "data": {
      "text/plain": "   location continent  population  life_expectancy  \\\n97    Italy    Europe  60461828.0            83.51   \n\n    hospital_beds_per_thousand  gdp_per_capita  \n97                        3.18       35220.084  ",
      "text/html": "<div>\n<style scoped>\n    .dataframe tbody tr th:only-of-type {\n        vertical-align: middle;\n    }\n\n    .dataframe tbody tr th {\n        vertical-align: top;\n    }\n\n    .dataframe thead th {\n        text-align: right;\n    }\n</style>\n<table border=\"1\" class=\"dataframe\">\n  <thead>\n    <tr style=\"text-align: right;\">\n      <th></th>\n      <th>location</th>\n      <th>continent</th>\n      <th>population</th>\n      <th>life_expectancy</th>\n      <th>hospital_beds_per_thousand</th>\n      <th>gdp_per_capita</th>\n    </tr>\n  </thead>\n  <tbody>\n    <tr>\n      <th>97</th>\n      <td>Italy</td>\n      <td>Europe</td>\n      <td>60461828.0</td>\n      <td>83.51</td>\n      <td>3.18</td>\n      <td>35220.084</td>\n    </tr>\n  </tbody>\n</table>\n</div>"
     },
     "execution_count": 50,
     "metadata": {},
     "output_type": "execute_result"
    }
   ],
   "source": [
    "loc[loc.location == 'Italy']"
   ],
   "metadata": {
    "collapsed": false
   }
  },
  {
   "cell_type": "code",
   "execution_count": 51,
   "outputs": [
    {
     "data": {
      "text/plain": "          date  new_cases  new_deaths  new_tests  year  month  day  weekday  \\\n0   2019-12-31        0.0         0.0        NaN  2019     12   31        1   \n1   2020-01-01        0.0         0.0        NaN  2020      1    1        2   \n2   2020-01-02        0.0         0.0        NaN  2020      1    2        3   \n3   2020-01-03        0.0         0.0        NaN  2020      1    3        4   \n4   2020-01-04        0.0         0.0        NaN  2020      1    4        5   \n..         ...        ...         ...        ...   ...    ...  ...      ...   \n243 2020-08-30     1444.0         1.0    53541.0  2020      8   30        6   \n244 2020-08-31     1365.0         4.0    42583.0  2020      8   31        0   \n245 2020-09-01      996.0         6.0    54395.0  2020      9    1        1   \n246 2020-09-02      975.0         8.0        NaN  2020      9    2        2   \n247 2020-09-03     1326.0         6.0        NaN  2020      9    3        3   \n\n     total_cases  total_tests  total_deaths location  \n0            0.0          NaN           0.0    Italy  \n1            0.0          NaN           0.0    Italy  \n2            0.0          NaN           0.0    Italy  \n3            0.0          NaN           0.0    Italy  \n4            0.0          NaN           0.0    Italy  \n..           ...          ...           ...      ...  \n243     267298.5    4182478.0       35473.0    Italy  \n244     268663.5    4225061.0       35477.0    Italy  \n245     269659.5    4279456.0       35483.0    Italy  \n246     270634.5          NaN       35491.0    Italy  \n247     271960.5          NaN       35497.0    Italy  \n\n[248 rows x 12 columns]",
      "text/html": "<div>\n<style scoped>\n    .dataframe tbody tr th:only-of-type {\n        vertical-align: middle;\n    }\n\n    .dataframe tbody tr th {\n        vertical-align: top;\n    }\n\n    .dataframe thead th {\n        text-align: right;\n    }\n</style>\n<table border=\"1\" class=\"dataframe\">\n  <thead>\n    <tr style=\"text-align: right;\">\n      <th></th>\n      <th>date</th>\n      <th>new_cases</th>\n      <th>new_deaths</th>\n      <th>new_tests</th>\n      <th>year</th>\n      <th>month</th>\n      <th>day</th>\n      <th>weekday</th>\n      <th>total_cases</th>\n      <th>total_tests</th>\n      <th>total_deaths</th>\n      <th>location</th>\n    </tr>\n  </thead>\n  <tbody>\n    <tr>\n      <th>0</th>\n      <td>2019-12-31</td>\n      <td>0.0</td>\n      <td>0.0</td>\n      <td>NaN</td>\n      <td>2019</td>\n      <td>12</td>\n      <td>31</td>\n      <td>1</td>\n      <td>0.0</td>\n      <td>NaN</td>\n      <td>0.0</td>\n      <td>Italy</td>\n    </tr>\n    <tr>\n      <th>1</th>\n      <td>2020-01-01</td>\n      <td>0.0</td>\n      <td>0.0</td>\n      <td>NaN</td>\n      <td>2020</td>\n      <td>1</td>\n      <td>1</td>\n      <td>2</td>\n      <td>0.0</td>\n      <td>NaN</td>\n      <td>0.0</td>\n      <td>Italy</td>\n    </tr>\n    <tr>\n      <th>2</th>\n      <td>2020-01-02</td>\n      <td>0.0</td>\n      <td>0.0</td>\n      <td>NaN</td>\n      <td>2020</td>\n      <td>1</td>\n      <td>2</td>\n      <td>3</td>\n      <td>0.0</td>\n      <td>NaN</td>\n      <td>0.0</td>\n      <td>Italy</td>\n    </tr>\n    <tr>\n      <th>3</th>\n      <td>2020-01-03</td>\n      <td>0.0</td>\n      <td>0.0</td>\n      <td>NaN</td>\n      <td>2020</td>\n      <td>1</td>\n      <td>3</td>\n      <td>4</td>\n      <td>0.0</td>\n      <td>NaN</td>\n      <td>0.0</td>\n      <td>Italy</td>\n    </tr>\n    <tr>\n      <th>4</th>\n      <td>2020-01-04</td>\n      <td>0.0</td>\n      <td>0.0</td>\n      <td>NaN</td>\n      <td>2020</td>\n      <td>1</td>\n      <td>4</td>\n      <td>5</td>\n      <td>0.0</td>\n      <td>NaN</td>\n      <td>0.0</td>\n      <td>Italy</td>\n    </tr>\n    <tr>\n      <th>...</th>\n      <td>...</td>\n      <td>...</td>\n      <td>...</td>\n      <td>...</td>\n      <td>...</td>\n      <td>...</td>\n      <td>...</td>\n      <td>...</td>\n      <td>...</td>\n      <td>...</td>\n      <td>...</td>\n      <td>...</td>\n    </tr>\n    <tr>\n      <th>243</th>\n      <td>2020-08-30</td>\n      <td>1444.0</td>\n      <td>1.0</td>\n      <td>53541.0</td>\n      <td>2020</td>\n      <td>8</td>\n      <td>30</td>\n      <td>6</td>\n      <td>267298.5</td>\n      <td>4182478.0</td>\n      <td>35473.0</td>\n      <td>Italy</td>\n    </tr>\n    <tr>\n      <th>244</th>\n      <td>2020-08-31</td>\n      <td>1365.0</td>\n      <td>4.0</td>\n      <td>42583.0</td>\n      <td>2020</td>\n      <td>8</td>\n      <td>31</td>\n      <td>0</td>\n      <td>268663.5</td>\n      <td>4225061.0</td>\n      <td>35477.0</td>\n      <td>Italy</td>\n    </tr>\n    <tr>\n      <th>245</th>\n      <td>2020-09-01</td>\n      <td>996.0</td>\n      <td>6.0</td>\n      <td>54395.0</td>\n      <td>2020</td>\n      <td>9</td>\n      <td>1</td>\n      <td>1</td>\n      <td>269659.5</td>\n      <td>4279456.0</td>\n      <td>35483.0</td>\n      <td>Italy</td>\n    </tr>\n    <tr>\n      <th>246</th>\n      <td>2020-09-02</td>\n      <td>975.0</td>\n      <td>8.0</td>\n      <td>NaN</td>\n      <td>2020</td>\n      <td>9</td>\n      <td>2</td>\n      <td>2</td>\n      <td>270634.5</td>\n      <td>NaN</td>\n      <td>35491.0</td>\n      <td>Italy</td>\n    </tr>\n    <tr>\n      <th>247</th>\n      <td>2020-09-03</td>\n      <td>1326.0</td>\n      <td>6.0</td>\n      <td>NaN</td>\n      <td>2020</td>\n      <td>9</td>\n      <td>3</td>\n      <td>3</td>\n      <td>271960.5</td>\n      <td>NaN</td>\n      <td>35497.0</td>\n      <td>Italy</td>\n    </tr>\n  </tbody>\n</table>\n<p>248 rows × 12 columns</p>\n</div>"
     },
     "execution_count": 51,
     "metadata": {},
     "output_type": "execute_result"
    }
   ],
   "source": [
    "df['location'] = 'Italy'\n",
    "df"
   ],
   "metadata": {
    "collapsed": false
   }
  },
  {
   "cell_type": "code",
   "execution_count": 52,
   "outputs": [
    {
     "data": {
      "text/plain": "          date  new_cases  new_deaths  new_tests  year  month  day  weekday  \\\n0   2019-12-31        0.0         0.0        NaN  2019     12   31        1   \n1   2020-01-01        0.0         0.0        NaN  2020      1    1        2   \n2   2020-01-02        0.0         0.0        NaN  2020      1    2        3   \n3   2020-01-03        0.0         0.0        NaN  2020      1    3        4   \n4   2020-01-04        0.0         0.0        NaN  2020      1    4        5   \n..         ...        ...         ...        ...   ...    ...  ...      ...   \n243 2020-08-30     1444.0         1.0    53541.0  2020      8   30        6   \n244 2020-08-31     1365.0         4.0    42583.0  2020      8   31        0   \n245 2020-09-01      996.0         6.0    54395.0  2020      9    1        1   \n246 2020-09-02      975.0         8.0        NaN  2020      9    2        2   \n247 2020-09-03     1326.0         6.0        NaN  2020      9    3        3   \n\n     total_cases  total_tests  total_deaths location continent  population  \\\n0            0.0          NaN           0.0    Italy    Europe  60461828.0   \n1            0.0          NaN           0.0    Italy    Europe  60461828.0   \n2            0.0          NaN           0.0    Italy    Europe  60461828.0   \n3            0.0          NaN           0.0    Italy    Europe  60461828.0   \n4            0.0          NaN           0.0    Italy    Europe  60461828.0   \n..           ...          ...           ...      ...       ...         ...   \n243     267298.5    4182478.0       35473.0    Italy    Europe  60461828.0   \n244     268663.5    4225061.0       35477.0    Italy    Europe  60461828.0   \n245     269659.5    4279456.0       35483.0    Italy    Europe  60461828.0   \n246     270634.5          NaN       35491.0    Italy    Europe  60461828.0   \n247     271960.5          NaN       35497.0    Italy    Europe  60461828.0   \n\n     life_expectancy  hospital_beds_per_thousand  gdp_per_capita  \n0              83.51                        3.18       35220.084  \n1              83.51                        3.18       35220.084  \n2              83.51                        3.18       35220.084  \n3              83.51                        3.18       35220.084  \n4              83.51                        3.18       35220.084  \n..               ...                         ...             ...  \n243            83.51                        3.18       35220.084  \n244            83.51                        3.18       35220.084  \n245            83.51                        3.18       35220.084  \n246            83.51                        3.18       35220.084  \n247            83.51                        3.18       35220.084  \n\n[248 rows x 17 columns]",
      "text/html": "<div>\n<style scoped>\n    .dataframe tbody tr th:only-of-type {\n        vertical-align: middle;\n    }\n\n    .dataframe tbody tr th {\n        vertical-align: top;\n    }\n\n    .dataframe thead th {\n        text-align: right;\n    }\n</style>\n<table border=\"1\" class=\"dataframe\">\n  <thead>\n    <tr style=\"text-align: right;\">\n      <th></th>\n      <th>date</th>\n      <th>new_cases</th>\n      <th>new_deaths</th>\n      <th>new_tests</th>\n      <th>year</th>\n      <th>month</th>\n      <th>day</th>\n      <th>weekday</th>\n      <th>total_cases</th>\n      <th>total_tests</th>\n      <th>total_deaths</th>\n      <th>location</th>\n      <th>continent</th>\n      <th>population</th>\n      <th>life_expectancy</th>\n      <th>hospital_beds_per_thousand</th>\n      <th>gdp_per_capita</th>\n    </tr>\n  </thead>\n  <tbody>\n    <tr>\n      <th>0</th>\n      <td>2019-12-31</td>\n      <td>0.0</td>\n      <td>0.0</td>\n      <td>NaN</td>\n      <td>2019</td>\n      <td>12</td>\n      <td>31</td>\n      <td>1</td>\n      <td>0.0</td>\n      <td>NaN</td>\n      <td>0.0</td>\n      <td>Italy</td>\n      <td>Europe</td>\n      <td>60461828.0</td>\n      <td>83.51</td>\n      <td>3.18</td>\n      <td>35220.084</td>\n    </tr>\n    <tr>\n      <th>1</th>\n      <td>2020-01-01</td>\n      <td>0.0</td>\n      <td>0.0</td>\n      <td>NaN</td>\n      <td>2020</td>\n      <td>1</td>\n      <td>1</td>\n      <td>2</td>\n      <td>0.0</td>\n      <td>NaN</td>\n      <td>0.0</td>\n      <td>Italy</td>\n      <td>Europe</td>\n      <td>60461828.0</td>\n      <td>83.51</td>\n      <td>3.18</td>\n      <td>35220.084</td>\n    </tr>\n    <tr>\n      <th>2</th>\n      <td>2020-01-02</td>\n      <td>0.0</td>\n      <td>0.0</td>\n      <td>NaN</td>\n      <td>2020</td>\n      <td>1</td>\n      <td>2</td>\n      <td>3</td>\n      <td>0.0</td>\n      <td>NaN</td>\n      <td>0.0</td>\n      <td>Italy</td>\n      <td>Europe</td>\n      <td>60461828.0</td>\n      <td>83.51</td>\n      <td>3.18</td>\n      <td>35220.084</td>\n    </tr>\n    <tr>\n      <th>3</th>\n      <td>2020-01-03</td>\n      <td>0.0</td>\n      <td>0.0</td>\n      <td>NaN</td>\n      <td>2020</td>\n      <td>1</td>\n      <td>3</td>\n      <td>4</td>\n      <td>0.0</td>\n      <td>NaN</td>\n      <td>0.0</td>\n      <td>Italy</td>\n      <td>Europe</td>\n      <td>60461828.0</td>\n      <td>83.51</td>\n      <td>3.18</td>\n      <td>35220.084</td>\n    </tr>\n    <tr>\n      <th>4</th>\n      <td>2020-01-04</td>\n      <td>0.0</td>\n      <td>0.0</td>\n      <td>NaN</td>\n      <td>2020</td>\n      <td>1</td>\n      <td>4</td>\n      <td>5</td>\n      <td>0.0</td>\n      <td>NaN</td>\n      <td>0.0</td>\n      <td>Italy</td>\n      <td>Europe</td>\n      <td>60461828.0</td>\n      <td>83.51</td>\n      <td>3.18</td>\n      <td>35220.084</td>\n    </tr>\n    <tr>\n      <th>...</th>\n      <td>...</td>\n      <td>...</td>\n      <td>...</td>\n      <td>...</td>\n      <td>...</td>\n      <td>...</td>\n      <td>...</td>\n      <td>...</td>\n      <td>...</td>\n      <td>...</td>\n      <td>...</td>\n      <td>...</td>\n      <td>...</td>\n      <td>...</td>\n      <td>...</td>\n      <td>...</td>\n      <td>...</td>\n    </tr>\n    <tr>\n      <th>243</th>\n      <td>2020-08-30</td>\n      <td>1444.0</td>\n      <td>1.0</td>\n      <td>53541.0</td>\n      <td>2020</td>\n      <td>8</td>\n      <td>30</td>\n      <td>6</td>\n      <td>267298.5</td>\n      <td>4182478.0</td>\n      <td>35473.0</td>\n      <td>Italy</td>\n      <td>Europe</td>\n      <td>60461828.0</td>\n      <td>83.51</td>\n      <td>3.18</td>\n      <td>35220.084</td>\n    </tr>\n    <tr>\n      <th>244</th>\n      <td>2020-08-31</td>\n      <td>1365.0</td>\n      <td>4.0</td>\n      <td>42583.0</td>\n      <td>2020</td>\n      <td>8</td>\n      <td>31</td>\n      <td>0</td>\n      <td>268663.5</td>\n      <td>4225061.0</td>\n      <td>35477.0</td>\n      <td>Italy</td>\n      <td>Europe</td>\n      <td>60461828.0</td>\n      <td>83.51</td>\n      <td>3.18</td>\n      <td>35220.084</td>\n    </tr>\n    <tr>\n      <th>245</th>\n      <td>2020-09-01</td>\n      <td>996.0</td>\n      <td>6.0</td>\n      <td>54395.0</td>\n      <td>2020</td>\n      <td>9</td>\n      <td>1</td>\n      <td>1</td>\n      <td>269659.5</td>\n      <td>4279456.0</td>\n      <td>35483.0</td>\n      <td>Italy</td>\n      <td>Europe</td>\n      <td>60461828.0</td>\n      <td>83.51</td>\n      <td>3.18</td>\n      <td>35220.084</td>\n    </tr>\n    <tr>\n      <th>246</th>\n      <td>2020-09-02</td>\n      <td>975.0</td>\n      <td>8.0</td>\n      <td>NaN</td>\n      <td>2020</td>\n      <td>9</td>\n      <td>2</td>\n      <td>2</td>\n      <td>270634.5</td>\n      <td>NaN</td>\n      <td>35491.0</td>\n      <td>Italy</td>\n      <td>Europe</td>\n      <td>60461828.0</td>\n      <td>83.51</td>\n      <td>3.18</td>\n      <td>35220.084</td>\n    </tr>\n    <tr>\n      <th>247</th>\n      <td>2020-09-03</td>\n      <td>1326.0</td>\n      <td>6.0</td>\n      <td>NaN</td>\n      <td>2020</td>\n      <td>9</td>\n      <td>3</td>\n      <td>3</td>\n      <td>271960.5</td>\n      <td>NaN</td>\n      <td>35497.0</td>\n      <td>Italy</td>\n      <td>Europe</td>\n      <td>60461828.0</td>\n      <td>83.51</td>\n      <td>3.18</td>\n      <td>35220.084</td>\n    </tr>\n  </tbody>\n</table>\n<p>248 rows × 17 columns</p>\n</div>"
     },
     "execution_count": 52,
     "metadata": {},
     "output_type": "execute_result"
    }
   ],
   "source": [
    "merged_df = df.merge(loc, on='location')\n",
    "merged_df"
   ],
   "metadata": {
    "collapsed": false
   }
  },
  {
   "cell_type": "code",
   "execution_count": 55,
   "outputs": [
    {
     "data": {
      "text/plain": "          date  new_cases  new_deaths  new_tests  year  month  day  weekday  \\\n0   2019-12-31        0.0         0.0        NaN  2019     12   31        1   \n1   2020-01-01        0.0         0.0        NaN  2020      1    1        2   \n2   2020-01-02        0.0         0.0        NaN  2020      1    2        3   \n3   2020-01-03        0.0         0.0        NaN  2020      1    3        4   \n4   2020-01-04        0.0         0.0        NaN  2020      1    4        5   \n..         ...        ...         ...        ...   ...    ...  ...      ...   \n243 2020-08-30     1444.0         1.0    53541.0  2020      8   30        6   \n244 2020-08-31     1365.0         4.0    42583.0  2020      8   31        0   \n245 2020-09-01      996.0         6.0    54395.0  2020      9    1        1   \n246 2020-09-02      975.0         8.0        NaN  2020      9    2        2   \n247 2020-09-03     1326.0         6.0        NaN  2020      9    3        3   \n\n     total_cases  total_tests  total_deaths location continent  population  \\\n0            0.0          NaN           0.0    Italy    Europe  60461828.0   \n1            0.0          NaN           0.0    Italy    Europe  60461828.0   \n2            0.0          NaN           0.0    Italy    Europe  60461828.0   \n3            0.0          NaN           0.0    Italy    Europe  60461828.0   \n4            0.0          NaN           0.0    Italy    Europe  60461828.0   \n..           ...          ...           ...      ...       ...         ...   \n243     267298.5    4182478.0       35473.0    Italy    Europe  60461828.0   \n244     268663.5    4225061.0       35477.0    Italy    Europe  60461828.0   \n245     269659.5    4279456.0       35483.0    Italy    Europe  60461828.0   \n246     270634.5          NaN       35491.0    Italy    Europe  60461828.0   \n247     271960.5          NaN       35497.0    Italy    Europe  60461828.0   \n\n     life_expectancy  hospital_beds_per_thousand  gdp_per_capita  \\\n0              83.51                        3.18       35220.084   \n1              83.51                        3.18       35220.084   \n2              83.51                        3.18       35220.084   \n3              83.51                        3.18       35220.084   \n4              83.51                        3.18       35220.084   \n..               ...                         ...             ...   \n243            83.51                        3.18       35220.084   \n244            83.51                        3.18       35220.084   \n245            83.51                        3.18       35220.084   \n246            83.51                        3.18       35220.084   \n247            83.51                        3.18       35220.084   \n\n     Cases_per_million  \n0             0.000000  \n1             0.000000  \n2             0.000000  \n3             0.000000  \n4             0.000000  \n..                 ...  \n243        4420.946386  \n244        4443.522614  \n245        4459.995818  \n246        4476.121695  \n247        4498.052887  \n\n[248 rows x 18 columns]",
      "text/html": "<div>\n<style scoped>\n    .dataframe tbody tr th:only-of-type {\n        vertical-align: middle;\n    }\n\n    .dataframe tbody tr th {\n        vertical-align: top;\n    }\n\n    .dataframe thead th {\n        text-align: right;\n    }\n</style>\n<table border=\"1\" class=\"dataframe\">\n  <thead>\n    <tr style=\"text-align: right;\">\n      <th></th>\n      <th>date</th>\n      <th>new_cases</th>\n      <th>new_deaths</th>\n      <th>new_tests</th>\n      <th>year</th>\n      <th>month</th>\n      <th>day</th>\n      <th>weekday</th>\n      <th>total_cases</th>\n      <th>total_tests</th>\n      <th>total_deaths</th>\n      <th>location</th>\n      <th>continent</th>\n      <th>population</th>\n      <th>life_expectancy</th>\n      <th>hospital_beds_per_thousand</th>\n      <th>gdp_per_capita</th>\n      <th>Cases_per_million</th>\n    </tr>\n  </thead>\n  <tbody>\n    <tr>\n      <th>0</th>\n      <td>2019-12-31</td>\n      <td>0.0</td>\n      <td>0.0</td>\n      <td>NaN</td>\n      <td>2019</td>\n      <td>12</td>\n      <td>31</td>\n      <td>1</td>\n      <td>0.0</td>\n      <td>NaN</td>\n      <td>0.0</td>\n      <td>Italy</td>\n      <td>Europe</td>\n      <td>60461828.0</td>\n      <td>83.51</td>\n      <td>3.18</td>\n      <td>35220.084</td>\n      <td>0.000000</td>\n    </tr>\n    <tr>\n      <th>1</th>\n      <td>2020-01-01</td>\n      <td>0.0</td>\n      <td>0.0</td>\n      <td>NaN</td>\n      <td>2020</td>\n      <td>1</td>\n      <td>1</td>\n      <td>2</td>\n      <td>0.0</td>\n      <td>NaN</td>\n      <td>0.0</td>\n      <td>Italy</td>\n      <td>Europe</td>\n      <td>60461828.0</td>\n      <td>83.51</td>\n      <td>3.18</td>\n      <td>35220.084</td>\n      <td>0.000000</td>\n    </tr>\n    <tr>\n      <th>2</th>\n      <td>2020-01-02</td>\n      <td>0.0</td>\n      <td>0.0</td>\n      <td>NaN</td>\n      <td>2020</td>\n      <td>1</td>\n      <td>2</td>\n      <td>3</td>\n      <td>0.0</td>\n      <td>NaN</td>\n      <td>0.0</td>\n      <td>Italy</td>\n      <td>Europe</td>\n      <td>60461828.0</td>\n      <td>83.51</td>\n      <td>3.18</td>\n      <td>35220.084</td>\n      <td>0.000000</td>\n    </tr>\n    <tr>\n      <th>3</th>\n      <td>2020-01-03</td>\n      <td>0.0</td>\n      <td>0.0</td>\n      <td>NaN</td>\n      <td>2020</td>\n      <td>1</td>\n      <td>3</td>\n      <td>4</td>\n      <td>0.0</td>\n      <td>NaN</td>\n      <td>0.0</td>\n      <td>Italy</td>\n      <td>Europe</td>\n      <td>60461828.0</td>\n      <td>83.51</td>\n      <td>3.18</td>\n      <td>35220.084</td>\n      <td>0.000000</td>\n    </tr>\n    <tr>\n      <th>4</th>\n      <td>2020-01-04</td>\n      <td>0.0</td>\n      <td>0.0</td>\n      <td>NaN</td>\n      <td>2020</td>\n      <td>1</td>\n      <td>4</td>\n      <td>5</td>\n      <td>0.0</td>\n      <td>NaN</td>\n      <td>0.0</td>\n      <td>Italy</td>\n      <td>Europe</td>\n      <td>60461828.0</td>\n      <td>83.51</td>\n      <td>3.18</td>\n      <td>35220.084</td>\n      <td>0.000000</td>\n    </tr>\n    <tr>\n      <th>...</th>\n      <td>...</td>\n      <td>...</td>\n      <td>...</td>\n      <td>...</td>\n      <td>...</td>\n      <td>...</td>\n      <td>...</td>\n      <td>...</td>\n      <td>...</td>\n      <td>...</td>\n      <td>...</td>\n      <td>...</td>\n      <td>...</td>\n      <td>...</td>\n      <td>...</td>\n      <td>...</td>\n      <td>...</td>\n      <td>...</td>\n    </tr>\n    <tr>\n      <th>243</th>\n      <td>2020-08-30</td>\n      <td>1444.0</td>\n      <td>1.0</td>\n      <td>53541.0</td>\n      <td>2020</td>\n      <td>8</td>\n      <td>30</td>\n      <td>6</td>\n      <td>267298.5</td>\n      <td>4182478.0</td>\n      <td>35473.0</td>\n      <td>Italy</td>\n      <td>Europe</td>\n      <td>60461828.0</td>\n      <td>83.51</td>\n      <td>3.18</td>\n      <td>35220.084</td>\n      <td>4420.946386</td>\n    </tr>\n    <tr>\n      <th>244</th>\n      <td>2020-08-31</td>\n      <td>1365.0</td>\n      <td>4.0</td>\n      <td>42583.0</td>\n      <td>2020</td>\n      <td>8</td>\n      <td>31</td>\n      <td>0</td>\n      <td>268663.5</td>\n      <td>4225061.0</td>\n      <td>35477.0</td>\n      <td>Italy</td>\n      <td>Europe</td>\n      <td>60461828.0</td>\n      <td>83.51</td>\n      <td>3.18</td>\n      <td>35220.084</td>\n      <td>4443.522614</td>\n    </tr>\n    <tr>\n      <th>245</th>\n      <td>2020-09-01</td>\n      <td>996.0</td>\n      <td>6.0</td>\n      <td>54395.0</td>\n      <td>2020</td>\n      <td>9</td>\n      <td>1</td>\n      <td>1</td>\n      <td>269659.5</td>\n      <td>4279456.0</td>\n      <td>35483.0</td>\n      <td>Italy</td>\n      <td>Europe</td>\n      <td>60461828.0</td>\n      <td>83.51</td>\n      <td>3.18</td>\n      <td>35220.084</td>\n      <td>4459.995818</td>\n    </tr>\n    <tr>\n      <th>246</th>\n      <td>2020-09-02</td>\n      <td>975.0</td>\n      <td>8.0</td>\n      <td>NaN</td>\n      <td>2020</td>\n      <td>9</td>\n      <td>2</td>\n      <td>2</td>\n      <td>270634.5</td>\n      <td>NaN</td>\n      <td>35491.0</td>\n      <td>Italy</td>\n      <td>Europe</td>\n      <td>60461828.0</td>\n      <td>83.51</td>\n      <td>3.18</td>\n      <td>35220.084</td>\n      <td>4476.121695</td>\n    </tr>\n    <tr>\n      <th>247</th>\n      <td>2020-09-03</td>\n      <td>1326.0</td>\n      <td>6.0</td>\n      <td>NaN</td>\n      <td>2020</td>\n      <td>9</td>\n      <td>3</td>\n      <td>3</td>\n      <td>271960.5</td>\n      <td>NaN</td>\n      <td>35497.0</td>\n      <td>Italy</td>\n      <td>Europe</td>\n      <td>60461828.0</td>\n      <td>83.51</td>\n      <td>3.18</td>\n      <td>35220.084</td>\n      <td>4498.052887</td>\n    </tr>\n  </tbody>\n</table>\n<p>248 rows × 18 columns</p>\n</div>"
     },
     "execution_count": 55,
     "metadata": {},
     "output_type": "execute_result"
    }
   ],
   "source": [
    "merged_df['Cases_per_million'] = merged_df.total_cases *  1e6 / merged_df.population\n",
    "merged_df"
   ],
   "metadata": {
    "collapsed": false
   }
  },
  {
   "cell_type": "markdown",
   "source": [
    "## Writing data back to a file"
   ],
   "metadata": {
    "collapsed": false
   }
  },
  {
   "cell_type": "code",
   "execution_count": 56,
   "outputs": [
    {
     "data": {
      "text/plain": "          date  new_cases  total_cases  new_deaths  total_deaths  new_tests  \\\n0   2019-12-31        0.0          0.0         0.0           0.0        NaN   \n1   2020-01-01        0.0          0.0         0.0           0.0        NaN   \n2   2020-01-02        0.0          0.0         0.0           0.0        NaN   \n3   2020-01-03        0.0          0.0         0.0           0.0        NaN   \n4   2020-01-04        0.0          0.0         0.0           0.0        NaN   \n..         ...        ...          ...         ...           ...        ...   \n243 2020-08-30     1444.0     267298.5         1.0       35473.0    53541.0   \n244 2020-08-31     1365.0     268663.5         4.0       35477.0    42583.0   \n245 2020-09-01      996.0     269659.5         6.0       35483.0    54395.0   \n246 2020-09-02      975.0     270634.5         8.0       35491.0        NaN   \n247 2020-09-03     1326.0     271960.5         6.0       35497.0        NaN   \n\n     total_tests  Cases_per_million  \n0            NaN           0.000000  \n1            NaN           0.000000  \n2            NaN           0.000000  \n3            NaN           0.000000  \n4            NaN           0.000000  \n..           ...                ...  \n243    4182478.0        4420.946386  \n244    4225061.0        4443.522614  \n245    4279456.0        4459.995818  \n246          NaN        4476.121695  \n247          NaN        4498.052887  \n\n[248 rows x 8 columns]",
      "text/html": "<div>\n<style scoped>\n    .dataframe tbody tr th:only-of-type {\n        vertical-align: middle;\n    }\n\n    .dataframe tbody tr th {\n        vertical-align: top;\n    }\n\n    .dataframe thead th {\n        text-align: right;\n    }\n</style>\n<table border=\"1\" class=\"dataframe\">\n  <thead>\n    <tr style=\"text-align: right;\">\n      <th></th>\n      <th>date</th>\n      <th>new_cases</th>\n      <th>total_cases</th>\n      <th>new_deaths</th>\n      <th>total_deaths</th>\n      <th>new_tests</th>\n      <th>total_tests</th>\n      <th>Cases_per_million</th>\n    </tr>\n  </thead>\n  <tbody>\n    <tr>\n      <th>0</th>\n      <td>2019-12-31</td>\n      <td>0.0</td>\n      <td>0.0</td>\n      <td>0.0</td>\n      <td>0.0</td>\n      <td>NaN</td>\n      <td>NaN</td>\n      <td>0.000000</td>\n    </tr>\n    <tr>\n      <th>1</th>\n      <td>2020-01-01</td>\n      <td>0.0</td>\n      <td>0.0</td>\n      <td>0.0</td>\n      <td>0.0</td>\n      <td>NaN</td>\n      <td>NaN</td>\n      <td>0.000000</td>\n    </tr>\n    <tr>\n      <th>2</th>\n      <td>2020-01-02</td>\n      <td>0.0</td>\n      <td>0.0</td>\n      <td>0.0</td>\n      <td>0.0</td>\n      <td>NaN</td>\n      <td>NaN</td>\n      <td>0.000000</td>\n    </tr>\n    <tr>\n      <th>3</th>\n      <td>2020-01-03</td>\n      <td>0.0</td>\n      <td>0.0</td>\n      <td>0.0</td>\n      <td>0.0</td>\n      <td>NaN</td>\n      <td>NaN</td>\n      <td>0.000000</td>\n    </tr>\n    <tr>\n      <th>4</th>\n      <td>2020-01-04</td>\n      <td>0.0</td>\n      <td>0.0</td>\n      <td>0.0</td>\n      <td>0.0</td>\n      <td>NaN</td>\n      <td>NaN</td>\n      <td>0.000000</td>\n    </tr>\n    <tr>\n      <th>...</th>\n      <td>...</td>\n      <td>...</td>\n      <td>...</td>\n      <td>...</td>\n      <td>...</td>\n      <td>...</td>\n      <td>...</td>\n      <td>...</td>\n    </tr>\n    <tr>\n      <th>243</th>\n      <td>2020-08-30</td>\n      <td>1444.0</td>\n      <td>267298.5</td>\n      <td>1.0</td>\n      <td>35473.0</td>\n      <td>53541.0</td>\n      <td>4182478.0</td>\n      <td>4420.946386</td>\n    </tr>\n    <tr>\n      <th>244</th>\n      <td>2020-08-31</td>\n      <td>1365.0</td>\n      <td>268663.5</td>\n      <td>4.0</td>\n      <td>35477.0</td>\n      <td>42583.0</td>\n      <td>4225061.0</td>\n      <td>4443.522614</td>\n    </tr>\n    <tr>\n      <th>245</th>\n      <td>2020-09-01</td>\n      <td>996.0</td>\n      <td>269659.5</td>\n      <td>6.0</td>\n      <td>35483.0</td>\n      <td>54395.0</td>\n      <td>4279456.0</td>\n      <td>4459.995818</td>\n    </tr>\n    <tr>\n      <th>246</th>\n      <td>2020-09-02</td>\n      <td>975.0</td>\n      <td>270634.5</td>\n      <td>8.0</td>\n      <td>35491.0</td>\n      <td>NaN</td>\n      <td>NaN</td>\n      <td>4476.121695</td>\n    </tr>\n    <tr>\n      <th>247</th>\n      <td>2020-09-03</td>\n      <td>1326.0</td>\n      <td>271960.5</td>\n      <td>6.0</td>\n      <td>35497.0</td>\n      <td>NaN</td>\n      <td>NaN</td>\n      <td>4498.052887</td>\n    </tr>\n  </tbody>\n</table>\n<p>248 rows × 8 columns</p>\n</div>"
     },
     "execution_count": 56,
     "metadata": {},
     "output_type": "execute_result"
    }
   ],
   "source": [
    "result_df = merged_df[[\n",
    "    'date',\n",
    "    'new_cases',\n",
    "    'total_cases',\n",
    "    'new_deaths',\n",
    "    'total_deaths',\n",
    "    'new_tests',\n",
    "    'total_tests',\n",
    "    'Cases_per_million',\n",
    "]]\n",
    "result_df"
   ],
   "metadata": {
    "collapsed": false
   }
  },
  {
   "cell_type": "code",
   "execution_count": null,
   "outputs": [],
   "source": [
    "# Saving while ignoring the index number\n",
    "result_df.to_csv('results.csv', index=None)"
   ],
   "metadata": {
    "collapsed": false
   }
  },
  {
   "cell_type": "markdown",
   "source": [
    "## Plotting with Pandas"
   ],
   "metadata": {
    "collapsed": false
   }
  },
  {
   "cell_type": "code",
   "execution_count": 58,
   "outputs": [
    {
     "data": {
      "text/plain": "<AxesSubplot: >"
     },
     "execution_count": 58,
     "metadata": {},
     "output_type": "execute_result"
    },
    {
     "data": {
      "text/plain": "<Figure size 640x480 with 1 Axes>",
      "image/png": "[encoded data removed]"
     },
     "metadata": {},
     "output_type": "display_data"
    }
   ],
   "source": [
    "result_df.new_cases.plot()"
   ],
   "metadata": {
    "collapsed": false
   }
  },
  {
   "cell_type": "code",
   "execution_count": 60,
   "outputs": [
    {
     "data": {
      "text/plain": "            new_cases  total_cases  new_deaths  total_deaths  new_tests  \\\ndate                                                                      \n2019-12-31        0.0          0.0         0.0           0.0        NaN   \n2020-01-01        0.0          0.0         0.0           0.0        NaN   \n2020-01-02        0.0          0.0         0.0           0.0        NaN   \n2020-01-03        0.0          0.0         0.0           0.0        NaN   \n2020-01-04        0.0          0.0         0.0           0.0        NaN   \n...               ...          ...         ...           ...        ...   \n2020-08-30     1444.0     267298.5         1.0       35473.0    53541.0   \n2020-08-31     1365.0     268663.5         4.0       35477.0    42583.0   \n2020-09-01      996.0     269659.5         6.0       35483.0    54395.0   \n2020-09-02      975.0     270634.5         8.0       35491.0        NaN   \n2020-09-03     1326.0     271960.5         6.0       35497.0        NaN   \n\n            total_tests  Cases_per_million  \ndate                                        \n2019-12-31          NaN           0.000000  \n2020-01-01          NaN           0.000000  \n2020-01-02          NaN           0.000000  \n2020-01-03          NaN           0.000000  \n2020-01-04          NaN           0.000000  \n...                 ...                ...  \n2020-08-30    4182478.0        4420.946386  \n2020-08-31    4225061.0        4443.522614  \n2020-09-01    4279456.0        4459.995818  \n2020-09-02          NaN        4476.121695  \n2020-09-03          NaN        4498.052887  \n\n[248 rows x 7 columns]",
      "text/html": "<div>\n<style scoped>\n    .dataframe tbody tr th:only-of-type {\n        vertical-align: middle;\n    }\n\n    .dataframe tbody tr th {\n        vertical-align: top;\n    }\n\n    .dataframe thead th {\n        text-align: right;\n    }\n</style>\n<table border=\"1\" class=\"dataframe\">\n  <thead>\n    <tr style=\"text-align: right;\">\n      <th></th>\n      <th>new_cases</th>\n      <th>total_cases</th>\n      <th>new_deaths</th>\n      <th>total_deaths</th>\n      <th>new_tests</th>\n      <th>total_tests</th>\n      <th>Cases_per_million</th>\n    </tr>\n    <tr>\n      <th>date</th>\n      <th></th>\n      <th></th>\n      <th></th>\n      <th></th>\n      <th></th>\n      <th></th>\n      <th></th>\n    </tr>\n  </thead>\n  <tbody>\n    <tr>\n      <th>2019-12-31</th>\n      <td>0.0</td>\n      <td>0.0</td>\n      <td>0.0</td>\n      <td>0.0</td>\n      <td>NaN</td>\n      <td>NaN</td>\n      <td>0.000000</td>\n    </tr>\n    <tr>\n      <th>2020-01-01</th>\n      <td>0.0</td>\n      <td>0.0</td>\n      <td>0.0</td>\n      <td>0.0</td>\n      <td>NaN</td>\n      <td>NaN</td>\n      <td>0.000000</td>\n    </tr>\n    <tr>\n      <th>2020-01-02</th>\n      <td>0.0</td>\n      <td>0.0</td>\n      <td>0.0</td>\n      <td>0.0</td>\n      <td>NaN</td>\n      <td>NaN</td>\n      <td>0.000000</td>\n    </tr>\n    <tr>\n      <th>2020-01-03</th>\n      <td>0.0</td>\n      <td>0.0</td>\n      <td>0.0</td>\n      <td>0.0</td>\n      <td>NaN</td>\n      <td>NaN</td>\n      <td>0.000000</td>\n    </tr>\n    <tr>\n      <th>2020-01-04</th>\n      <td>0.0</td>\n      <td>0.0</td>\n      <td>0.0</td>\n      <td>0.0</td>\n      <td>NaN</td>\n      <td>NaN</td>\n      <td>0.000000</td>\n    </tr>\n    <tr>\n      <th>...</th>\n      <td>...</td>\n      <td>...</td>\n      <td>...</td>\n      <td>...</td>\n      <td>...</td>\n      <td>...</td>\n      <td>...</td>\n    </tr>\n    <tr>\n      <th>2020-08-30</th>\n      <td>1444.0</td>\n      <td>267298.5</td>\n      <td>1.0</td>\n      <td>35473.0</td>\n      <td>53541.0</td>\n      <td>4182478.0</td>\n      <td>4420.946386</td>\n    </tr>\n    <tr>\n      <th>2020-08-31</th>\n      <td>1365.0</td>\n      <td>268663.5</td>\n      <td>4.0</td>\n      <td>35477.0</td>\n      <td>42583.0</td>\n      <td>4225061.0</td>\n      <td>4443.522614</td>\n    </tr>\n    <tr>\n      <th>2020-09-01</th>\n      <td>996.0</td>\n      <td>269659.5</td>\n      <td>6.0</td>\n      <td>35483.0</td>\n      <td>54395.0</td>\n      <td>4279456.0</td>\n      <td>4459.995818</td>\n    </tr>\n    <tr>\n      <th>2020-09-02</th>\n      <td>975.0</td>\n      <td>270634.5</td>\n      <td>8.0</td>\n      <td>35491.0</td>\n      <td>NaN</td>\n      <td>NaN</td>\n      <td>4476.121695</td>\n    </tr>\n    <tr>\n      <th>2020-09-03</th>\n      <td>1326.0</td>\n      <td>271960.5</td>\n      <td>6.0</td>\n      <td>35497.0</td>\n      <td>NaN</td>\n      <td>NaN</td>\n      <td>4498.052887</td>\n    </tr>\n  </tbody>\n</table>\n<p>248 rows × 7 columns</p>\n</div>"
     },
     "execution_count": 60,
     "metadata": {},
     "output_type": "execute_result"
    }
   ],
   "source": [
    "result_df.set_index('date', inplace=True)\n",
    "result_df"
   ],
   "metadata": {
    "collapsed": false
   }
  },
  {
   "cell_type": "code",
   "execution_count": 61,
   "outputs": [
    {
     "data": {
      "text/plain": "<AxesSubplot: xlabel='date'>"
     },
     "execution_count": 61,
     "metadata": {},
     "output_type": "execute_result"
    },
    {
     "data": {
      "text/plain": "<Figure size 640x480 with 1 Axes>",
      "image/png": "[encoded data removed]"
     },
     "metadata": {},
     "output_type": "display_data"
    }
   ],
   "source": [
    "result_df.new_deaths.plot()\n",
    "result_df.new_cases.plot()"
   ],
   "metadata": {
    "collapsed": false
   }
  },
  {
   "cell_type": "code",
   "execution_count": 63,
   "outputs": [
    {
     "data": {
      "text/plain": "<AxesSubplot: title={'center': 'Death Rate'}, xlabel='date'>"
     },
     "execution_count": 63,
     "metadata": {},
     "output_type": "execute_result"
    },
    {
     "data": {
      "text/plain": "<Figure size 640x480 with 1 Axes>",
      "image/png": "[encoded data removed]"
     },
     "metadata": {},
     "output_type": "display_data"
    }
   ],
   "source": [
    "death_rate = result_df.total_deaths / result_df.total_cases\n",
    "death_rate.plot(title='Death Rate')"
   ],
   "metadata": {
    "collapsed": false
   }
  },
  {
   "cell_type": "code",
   "execution_count": 65,
   "outputs": [
    {
     "data": {
      "text/plain": "<AxesSubplot: title={'center': 'Positive Rates'}, xlabel='date'>"
     },
     "execution_count": 65,
     "metadata": {},
     "output_type": "execute_result"
    },
    {
     "data": {
      "text/plain": "<Figure size 640x480 with 1 Axes>",
      "image/png": "[encoded data removed]"
     },
     "metadata": {},
     "output_type": "display_data"
    }
   ],
   "source": [
    "positive_rate = result_df.total_cases / result_df.total_tests\n",
    "positive_rate.plot(title='Positive Rates')"
   ],
   "metadata": {
    "collapsed": false
   }
  },
  {
   "cell_type": "code",
   "execution_count": 75,
   "outputs": [
    {
     "data": {
      "text/plain": "<AxesSubplot: xlabel='month'>"
     },
     "execution_count": 75,
     "metadata": {},
     "output_type": "execute_result"
    },
    {
     "data": {
      "text/plain": "<Figure size 640x480 with 1 Axes>",
      "image/png": "[encoded data removed]"
     },
     "metadata": {},
     "output_type": "display_data"
    }
   ],
   "source": [
    "# Monthwise Data\n",
    "monthly_grps[['new_cases', 'new_deaths', 'new_tests']].sum().plot(kind='bar')"
   ],
   "metadata": {
    "collapsed": false
   }
  },
  {
   "cell_type": "code",
   "execution_count": null,
   "outputs": [],
   "source": [],
   "metadata": {
    "collapsed": false
   }
  }
 ],
 "metadata": {
  "kernelspec": {
   "display_name": "Python 3",
   "language": "python",
   "name": "python3"
  },
  "language_info": {
   "codemirror_mode": {
    "name": "ipython",
    "version": 2
   },
   "file_extension": ".py",
   "mimetype": "text/x-python",
   "name": "python",
   "nbconvert_exporter": "python",
   "pygments_lexer": "ipython2",
   "version": "2.7.6"
  }
 },
 "nbformat": 4,
 "nbformat_minor": 0
}
